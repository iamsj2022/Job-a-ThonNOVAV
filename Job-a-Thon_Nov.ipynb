{
 "cells": [
  {
   "cell_type": "markdown",
   "id": "5aa2d68b",
   "metadata": {},
   "source": [
    "## Import all Necessary library"
   ]
  },
  {
   "cell_type": "code",
   "execution_count": 1,
   "id": "80df77d1",
   "metadata": {},
   "outputs": [],
   "source": [
    "#Installing the Required Packages\n",
    "import os\n",
    "import math\n",
    "import pandas as pd\n",
    "import numpy as np\n",
    "import seaborn as sns\n",
    "import matplotlib.pyplot as plt\n",
    "from datetime import datetime\n",
    "\n",
    "from sklearn.model_selection import KFold\n",
    "from catboost import CatBoostRegressor\n",
    "import lightgbm as lgb\n",
    "import xgboost as xgb\n",
    "from xgboost.sklearn import XGBRegressor\n",
    "from xgboost import plot_importance,plot_tree\n",
    "plt.style.use('fivethirtyeight')\n",
    "from sklearn.model_selection import GridSearchCV\n",
    "import pylab \n",
    "\n",
    "import statsmodels.api as sm\n",
    "from statsmodels.tsa.stattools import adfuller\n",
    "from statsmodels.graphics.tsaplots import plot_acf, plot_pacf\n",
    "from statsmodels.tsa.arima.model import ARIMA\n",
    "from statsmodels.tsa.statespace.sarimax import SARIMAX\n",
    "\n",
    "from scipy.special import boxcox, inv_boxcox\n",
    "from scipy import stats\n",
    "from pmdarima import auto_arima\n",
    "import statsmodels.api as sm\n",
    "from statsmodels.stats.outliers_influence import variance_inflation_factor\n",
    "\n",
    "import warnings\n",
    "warnings.filterwarnings('ignore')"
   ]
  },
  {
   "cell_type": "code",
   "execution_count": 2,
   "id": "ae8bc86a",
   "metadata": {},
   "outputs": [
    {
     "data": {
      "text/plain": [
       "'C:\\\\Users\\\\jhash\\\\Downloads'"
      ]
     },
     "execution_count": 2,
     "metadata": {},
     "output_type": "execute_result"
    }
   ],
   "source": [
    "pwd()"
   ]
  },
  {
   "cell_type": "code",
   "execution_count": 3,
   "id": "910aaf81",
   "metadata": {},
   "outputs": [
    {
     "name": "stdout",
     "output_type": "stream",
     "text": [
      " Volume in drive C has no label.\n",
      " Volume Serial Number is 70E0-E279\n",
      "\n",
      " Directory of C:\\Users\\jhash\\Downloads\n",
      "\n",
      "20-11-2022  20:24    <DIR>          .\n",
      "18-11-2022  15:23    <DIR>          ..\n",
      "19-11-2022  21:38    <DIR>          .ipynb_checkpoints\n",
      "18-11-2022  15:33           373,496 1136_6874db2b-562d-4c10-be8c-1f8bd401be34_cf_joba_J7yJ6kh.ipynb\n",
      "20-11-2022  16:37    <DIR>          catboost_info\n",
      "03-11-2022  19:54            47,002 Cover Letter_Data Science  (5).pdf\n",
      "16-11-2022  12:45            48,379 Cover Letter_Data Science  (6).pdf\n",
      "19-11-2022  19:44           303,585 Forecasting Green Energy.ipynb\n",
      "20-11-2022  20:24           279,318 Job-a-Thon_Nov.ipynb\n",
      "19-11-2022  12:02    <DIR>          mlops assignment\n",
      "19-11-2022  13:23    <DIR>          question-20221119T075012Z-001\n",
      "19-11-2022  13:22       552,032,373 question-20221119T075012Z-001.zip\n",
      "19-11-2022  17:07           678,911 sample_submission_jn0a7vR.csv\n",
      "03-11-2022  12:29            78,259 Shashi Jha Data Scientist Resume  .pdf\n",
      "03-11-2022  15:16            78,288 Shashi Jha Research Intern Resume  .pdf\n",
      "04-11-2022  10:56            78,200 Shashi_154867954.pdf\n",
      "19-11-2022  17:29           705,217 test_WudNWDM.csv\n",
      "19-11-2022  17:07         3,413,584 train_IxoE5JN.csv\n",
      "              12 File(s)    558,116,612 bytes\n",
      "               6 Dir(s)  447,004,504,064 bytes free\n"
     ]
    }
   ],
   "source": [
    "ls"
   ]
  },
  {
   "cell_type": "markdown",
   "id": "7b7ef968",
   "metadata": {},
   "source": [
    "## Read training and Test data"
   ]
  },
  {
   "cell_type": "code",
   "execution_count": 4,
   "id": "e90c2ef1",
   "metadata": {},
   "outputs": [],
   "source": [
    "train = pd.read_csv('C:\\\\Users\\\\jhash\\\\Downloads\\\\train_IxoE5JN.csv')\n",
    "test  = pd.read_csv('C:\\\\Users\\\\jhash\\\\Downloads\\\\test_WudNWDM.csv')\n",
    "submission = pd.read_csv('C:\\\\Users\\\\jhash\\\\Downloads\\\\sample_submission_jn0a7vR.csv')"
   ]
  },
  {
   "cell_type": "code",
   "execution_count": 5,
   "id": "b7e386cc",
   "metadata": {},
   "outputs": [
    {
     "name": "stdout",
     "output_type": "stream",
     "text": [
      "       row_id             datetime       energy\n",
      "0           1  2008-03-01 00:00:00  1259.985563\n",
      "1           2  2008-03-01 01:00:00  1095.541500\n",
      "2           3  2008-03-01 02:00:00  1056.247500\n",
      "3           4  2008-03-01 03:00:00  1034.742000\n",
      "4           5  2008-03-01 04:00:00  1026.334500\n",
      "...       ...                  ...          ...\n",
      "94987   94988  2018-12-31 19:00:00  2528.446800\n",
      "94988   94989  2018-12-31 20:00:00  2461.883600\n",
      "94989   94990  2018-12-31 21:00:00  2365.994400\n",
      "94990   94991  2018-12-31 22:00:00  2342.942800\n",
      "94991   94992  2018-12-31 23:00:00  2180.217600\n",
      "\n",
      "[94992 rows x 3 columns]\n",
      "       row_id             datetime\n",
      "0       94993  2019-01-01 00:00:00\n",
      "1       94994  2019-01-01 01:00:00\n",
      "2       94995  2019-01-01 02:00:00\n",
      "3       94996  2019-01-01 03:00:00\n",
      "4       94997  2019-01-01 04:00:00\n",
      "...       ...                  ...\n",
      "26299  121292  2021-12-31 19:00:00\n",
      "26300  121293  2021-12-31 20:00:00\n",
      "26301  121294  2021-12-31 21:00:00\n",
      "26302  121295  2021-12-31 22:00:00\n",
      "26303  121296  2021-12-31 23:00:00\n",
      "\n",
      "[26304 rows x 2 columns]\n"
     ]
    },
    {
     "data": {
      "text/html": [
       "<div>\n",
       "<style scoped>\n",
       "    .dataframe tbody tr th:only-of-type {\n",
       "        vertical-align: middle;\n",
       "    }\n",
       "\n",
       "    .dataframe tbody tr th {\n",
       "        vertical-align: top;\n",
       "    }\n",
       "\n",
       "    .dataframe thead th {\n",
       "        text-align: right;\n",
       "    }\n",
       "</style>\n",
       "<table border=\"1\" class=\"dataframe\">\n",
       "  <thead>\n",
       "    <tr style=\"text-align: right;\">\n",
       "      <th></th>\n",
       "      <th>row_id</th>\n",
       "      <th>energy</th>\n",
       "    </tr>\n",
       "  </thead>\n",
       "  <tbody>\n",
       "    <tr>\n",
       "      <th>0</th>\n",
       "      <td>94993</td>\n",
       "      <td>1702.995014</td>\n",
       "    </tr>\n",
       "    <tr>\n",
       "      <th>1</th>\n",
       "      <td>94994</td>\n",
       "      <td>1702.995014</td>\n",
       "    </tr>\n",
       "    <tr>\n",
       "      <th>2</th>\n",
       "      <td>94995</td>\n",
       "      <td>1702.995014</td>\n",
       "    </tr>\n",
       "    <tr>\n",
       "      <th>3</th>\n",
       "      <td>94996</td>\n",
       "      <td>1702.995014</td>\n",
       "    </tr>\n",
       "    <tr>\n",
       "      <th>4</th>\n",
       "      <td>94997</td>\n",
       "      <td>1702.995014</td>\n",
       "    </tr>\n",
       "    <tr>\n",
       "      <th>...</th>\n",
       "      <td>...</td>\n",
       "      <td>...</td>\n",
       "    </tr>\n",
       "    <tr>\n",
       "      <th>26299</th>\n",
       "      <td>121292</td>\n",
       "      <td>1702.995014</td>\n",
       "    </tr>\n",
       "    <tr>\n",
       "      <th>26300</th>\n",
       "      <td>121293</td>\n",
       "      <td>1702.995014</td>\n",
       "    </tr>\n",
       "    <tr>\n",
       "      <th>26301</th>\n",
       "      <td>121294</td>\n",
       "      <td>1702.995014</td>\n",
       "    </tr>\n",
       "    <tr>\n",
       "      <th>26302</th>\n",
       "      <td>121295</td>\n",
       "      <td>1702.995014</td>\n",
       "    </tr>\n",
       "    <tr>\n",
       "      <th>26303</th>\n",
       "      <td>121296</td>\n",
       "      <td>1702.995014</td>\n",
       "    </tr>\n",
       "  </tbody>\n",
       "</table>\n",
       "<p>26304 rows × 2 columns</p>\n",
       "</div>"
      ],
      "text/plain": [
       "       row_id       energy\n",
       "0       94993  1702.995014\n",
       "1       94994  1702.995014\n",
       "2       94995  1702.995014\n",
       "3       94996  1702.995014\n",
       "4       94997  1702.995014\n",
       "...       ...          ...\n",
       "26299  121292  1702.995014\n",
       "26300  121293  1702.995014\n",
       "26301  121294  1702.995014\n",
       "26302  121295  1702.995014\n",
       "26303  121296  1702.995014\n",
       "\n",
       "[26304 rows x 2 columns]"
      ]
     },
     "execution_count": 5,
     "metadata": {},
     "output_type": "execute_result"
    }
   ],
   "source": [
    "print(train)\n",
    "print(test)\n",
    "submission\n"
   ]
  },
  {
   "cell_type": "code",
   "execution_count": 6,
   "id": "56462d95",
   "metadata": {},
   "outputs": [
    {
     "name": "stdout",
     "output_type": "stream",
     "text": [
      "Training data shape :  (94992, 3)\n",
      "Test data shape :  (26304, 2)\n"
     ]
    }
   ],
   "source": [
    "print(\"Training data shape : \",train.shape)\n",
    "print(\"Test data shape : \",test.shape)"
   ]
  },
  {
   "cell_type": "code",
   "execution_count": 7,
   "id": "0770e36b",
   "metadata": {},
   "outputs": [],
   "source": [
    "#train = train.drop('row_id' ,axis= 1)"
   ]
  },
  {
   "cell_type": "code",
   "execution_count": 8,
   "id": "bf00ede8",
   "metadata": {},
   "outputs": [
    {
     "name": "stdout",
     "output_type": "stream",
     "text": [
      "       row_id             datetime       energy\n",
      "0           1  2008-03-01 00:00:00  1259.985563\n",
      "1           2  2008-03-01 01:00:00  1095.541500\n",
      "2           3  2008-03-01 02:00:00  1056.247500\n",
      "3           4  2008-03-01 03:00:00  1034.742000\n",
      "4           5  2008-03-01 04:00:00  1026.334500\n",
      "...       ...                  ...          ...\n",
      "94987   94988  2018-12-31 19:00:00  2528.446800\n",
      "94988   94989  2018-12-31 20:00:00  2461.883600\n",
      "94989   94990  2018-12-31 21:00:00  2365.994400\n",
      "94990   94991  2018-12-31 22:00:00  2342.942800\n",
      "94991   94992  2018-12-31 23:00:00  2180.217600\n",
      "\n",
      "[94992 rows x 3 columns]\n",
      "       row_id             datetime\n",
      "0       94993  2019-01-01 00:00:00\n",
      "1       94994  2019-01-01 01:00:00\n",
      "2       94995  2019-01-01 02:00:00\n",
      "3       94996  2019-01-01 03:00:00\n",
      "4       94997  2019-01-01 04:00:00\n",
      "...       ...                  ...\n",
      "26299  121292  2021-12-31 19:00:00\n",
      "26300  121293  2021-12-31 20:00:00\n",
      "26301  121294  2021-12-31 21:00:00\n",
      "26302  121295  2021-12-31 22:00:00\n",
      "26303  121296  2021-12-31 23:00:00\n",
      "\n",
      "[26304 rows x 2 columns]\n"
     ]
    }
   ],
   "source": [
    "#test = test.drop('row_id' ,axis= 1)\n",
    "print(train)\n",
    "print(test)"
   ]
  },
  {
   "cell_type": "code",
   "execution_count": 9,
   "id": "ff94afdd",
   "metadata": {},
   "outputs": [
    {
     "data": {
      "text/plain": [
       "row_id         0\n",
       "datetime       0\n",
       "energy      1900\n",
       "dtype: int64"
      ]
     },
     "execution_count": 9,
     "metadata": {},
     "output_type": "execute_result"
    }
   ],
   "source": [
    "train.isnull().sum()"
   ]
  },
  {
   "cell_type": "code",
   "execution_count": 10,
   "id": "59ab02bf",
   "metadata": {},
   "outputs": [
    {
     "data": {
      "text/plain": [
       "row_id      0\n",
       "datetime    0\n",
       "dtype: int64"
      ]
     },
     "execution_count": 10,
     "metadata": {},
     "output_type": "execute_result"
    }
   ],
   "source": [
    "test.isnull().sum()"
   ]
  },
  {
   "cell_type": "code",
   "execution_count": 11,
   "id": "f291692c",
   "metadata": {},
   "outputs": [],
   "source": [
    "train['energy']= train['energy'].replace(0,train['energy'].mean())"
   ]
  },
  {
   "cell_type": "code",
   "execution_count": 12,
   "id": "c4acae63",
   "metadata": {},
   "outputs": [],
   "source": [
    "df1 = train.isnull().sum()"
   ]
  },
  {
   "cell_type": "code",
   "execution_count": 13,
   "id": "fb3e3fd9",
   "metadata": {},
   "outputs": [
    {
     "data": {
      "text/html": [
       "<div>\n",
       "<style scoped>\n",
       "    .dataframe tbody tr th:only-of-type {\n",
       "        vertical-align: middle;\n",
       "    }\n",
       "\n",
       "    .dataframe tbody tr th {\n",
       "        vertical-align: top;\n",
       "    }\n",
       "\n",
       "    .dataframe thead th {\n",
       "        text-align: right;\n",
       "    }\n",
       "</style>\n",
       "<table border=\"1\" class=\"dataframe\">\n",
       "  <thead>\n",
       "    <tr style=\"text-align: right;\">\n",
       "      <th></th>\n",
       "      <th>row_id</th>\n",
       "      <th>energy</th>\n",
       "    </tr>\n",
       "  </thead>\n",
       "  <tbody>\n",
       "    <tr>\n",
       "      <th>count</th>\n",
       "      <td>94992.000000</td>\n",
       "      <td>93092.000000</td>\n",
       "    </tr>\n",
       "    <tr>\n",
       "      <th>mean</th>\n",
       "      <td>47496.500000</td>\n",
       "      <td>1702.995014</td>\n",
       "    </tr>\n",
       "    <tr>\n",
       "      <th>std</th>\n",
       "      <td>27421.972723</td>\n",
       "      <td>369.322103</td>\n",
       "    </tr>\n",
       "    <tr>\n",
       "      <th>min</th>\n",
       "      <td>1.000000</td>\n",
       "      <td>866.388600</td>\n",
       "    </tr>\n",
       "    <tr>\n",
       "      <th>25%</th>\n",
       "      <td>23748.750000</td>\n",
       "      <td>1431.541100</td>\n",
       "    </tr>\n",
       "    <tr>\n",
       "      <th>50%</th>\n",
       "      <td>47496.500000</td>\n",
       "      <td>1654.465800</td>\n",
       "    </tr>\n",
       "    <tr>\n",
       "      <th>75%</th>\n",
       "      <td>71244.250000</td>\n",
       "      <td>1935.993450</td>\n",
       "    </tr>\n",
       "    <tr>\n",
       "      <th>max</th>\n",
       "      <td>94992.000000</td>\n",
       "      <td>3374.399600</td>\n",
       "    </tr>\n",
       "  </tbody>\n",
       "</table>\n",
       "</div>"
      ],
      "text/plain": [
       "             row_id        energy\n",
       "count  94992.000000  93092.000000\n",
       "mean   47496.500000   1702.995014\n",
       "std    27421.972723    369.322103\n",
       "min        1.000000    866.388600\n",
       "25%    23748.750000   1431.541100\n",
       "50%    47496.500000   1654.465800\n",
       "75%    71244.250000   1935.993450\n",
       "max    94992.000000   3374.399600"
      ]
     },
     "execution_count": 13,
     "metadata": {},
     "output_type": "execute_result"
    }
   ],
   "source": [
    "train.describe()"
   ]
  },
  {
   "cell_type": "code",
   "execution_count": 14,
   "id": "acbf7b50",
   "metadata": {},
   "outputs": [
    {
     "data": {
      "text/plain": [
       "<bound method Series.count of 0        False\n",
       "1        False\n",
       "2        False\n",
       "3        False\n",
       "4        False\n",
       "         ...  \n",
       "94987    False\n",
       "94988    False\n",
       "94989    False\n",
       "94990    False\n",
       "94991    False\n",
       "Name: energy, Length: 94992, dtype: bool>"
      ]
     },
     "execution_count": 14,
     "metadata": {},
     "output_type": "execute_result"
    }
   ],
   "source": [
    "tr = pd.isna(train['energy']).count\n",
    "tr"
   ]
  },
  {
   "cell_type": "code",
   "execution_count": 15,
   "id": "3dde58d2",
   "metadata": {},
   "outputs": [
    {
     "name": "stdout",
     "output_type": "stream",
     "text": [
      "0        2019-01-01 00:00:00\n",
      "1        2019-01-01 01:00:00\n",
      "2        2019-01-01 02:00:00\n",
      "3        2019-01-01 03:00:00\n",
      "4        2019-01-01 04:00:00\n",
      "                ...         \n",
      "26299    2021-12-31 19:00:00\n",
      "26300    2021-12-31 20:00:00\n",
      "26301    2021-12-31 21:00:00\n",
      "26302    2021-12-31 22:00:00\n",
      "26303    2021-12-31 23:00:00\n",
      "Name: datetime, Length: 26304, dtype: object\n"
     ]
    }
   ],
   "source": [
    "train.datetime\n",
    "print(test.datetime)"
   ]
  },
  {
   "cell_type": "code",
   "execution_count": 16,
   "id": "bf511194",
   "metadata": {},
   "outputs": [
    {
     "name": "stdout",
     "output_type": "stream",
     "text": [
      "       row_id             datetime       energy        date  Hour\n",
      "0           1  2008-03-01 00:00:00  1259.985563  2008-03-01     0\n",
      "1           2  2008-03-01 01:00:00  1095.541500  2008-03-01     1\n",
      "2           3  2008-03-01 02:00:00  1056.247500  2008-03-01     2\n",
      "3           4  2008-03-01 03:00:00  1034.742000  2008-03-01     3\n",
      "4           5  2008-03-01 04:00:00  1026.334500  2008-03-01     4\n",
      "...       ...                  ...          ...         ...   ...\n",
      "94987   94988  2018-12-31 19:00:00  2528.446800  2018-12-31    19\n",
      "94988   94989  2018-12-31 20:00:00  2461.883600  2018-12-31    20\n",
      "94989   94990  2018-12-31 21:00:00  2365.994400  2018-12-31    21\n",
      "94990   94991  2018-12-31 22:00:00  2342.942800  2018-12-31    22\n",
      "94991   94992  2018-12-31 23:00:00  2180.217600  2018-12-31    23\n",
      "\n",
      "[94992 rows x 5 columns]\n",
      "row_id        int64\n",
      "datetime     object\n",
      "energy      float64\n",
      "date         object\n",
      "Hour          int64\n",
      "dtype: object\n"
     ]
    }
   ],
   "source": [
    "train['date'] = pd.to_datetime(train['datetime']).dt.date\n",
    "train['Hour'] = pd.to_datetime(train['datetime']).dt.hour\n",
    "print(train)\n",
    "print(train.dtypes)"
   ]
  },
  {
   "cell_type": "code",
   "execution_count": 17,
   "id": "e4aae885",
   "metadata": {},
   "outputs": [
    {
     "name": "stdout",
     "output_type": "stream",
     "text": [
      "       row_id             datetime        date  Hour\n",
      "0       94993  2019-01-01 00:00:00  2019-01-01     0\n",
      "1       94994  2019-01-01 01:00:00  2019-01-01     1\n",
      "2       94995  2019-01-01 02:00:00  2019-01-01     2\n",
      "3       94996  2019-01-01 03:00:00  2019-01-01     3\n",
      "4       94997  2019-01-01 04:00:00  2019-01-01     4\n",
      "...       ...                  ...         ...   ...\n",
      "26299  121292  2021-12-31 19:00:00  2021-12-31    19\n",
      "26300  121293  2021-12-31 20:00:00  2021-12-31    20\n",
      "26301  121294  2021-12-31 21:00:00  2021-12-31    21\n",
      "26302  121295  2021-12-31 22:00:00  2021-12-31    22\n",
      "26303  121296  2021-12-31 23:00:00  2021-12-31    23\n",
      "\n",
      "[26304 rows x 4 columns]\n",
      "row_id       int64\n",
      "datetime    object\n",
      "date        object\n",
      "Hour         int64\n",
      "dtype: object\n"
     ]
    }
   ],
   "source": [
    "test['date'] = pd.to_datetime(test['datetime']).dt.date\n",
    "test['Hour'] = pd.to_datetime(test['datetime']).dt.hour\n",
    "print(test)\n",
    "print(test.dtypes)"
   ]
  },
  {
   "cell_type": "code",
   "execution_count": null,
   "id": "9b97dde4",
   "metadata": {},
   "outputs": [],
   "source": []
  },
  {
   "cell_type": "code",
   "execution_count": 18,
   "id": "64f3b23f",
   "metadata": {},
   "outputs": [
    {
     "data": {
      "text/html": [
       "<div>\n",
       "<style scoped>\n",
       "    .dataframe tbody tr th:only-of-type {\n",
       "        vertical-align: middle;\n",
       "    }\n",
       "\n",
       "    .dataframe tbody tr th {\n",
       "        vertical-align: top;\n",
       "    }\n",
       "\n",
       "    .dataframe thead th {\n",
       "        text-align: right;\n",
       "    }\n",
       "</style>\n",
       "<table border=\"1\" class=\"dataframe\">\n",
       "  <thead>\n",
       "    <tr style=\"text-align: right;\">\n",
       "      <th></th>\n",
       "      <th>row_id</th>\n",
       "      <th>datetime</th>\n",
       "      <th>energy</th>\n",
       "      <th>date</th>\n",
       "      <th>Hour</th>\n",
       "    </tr>\n",
       "  </thead>\n",
       "  <tbody>\n",
       "    <tr>\n",
       "      <th>0</th>\n",
       "      <td>1</td>\n",
       "      <td>2008-03-01 00:00:00</td>\n",
       "      <td>1259.985563</td>\n",
       "      <td>2008-03-01</td>\n",
       "      <td>0</td>\n",
       "    </tr>\n",
       "    <tr>\n",
       "      <th>1</th>\n",
       "      <td>2</td>\n",
       "      <td>2008-03-01 01:00:00</td>\n",
       "      <td>1095.541500</td>\n",
       "      <td>2008-03-01</td>\n",
       "      <td>1</td>\n",
       "    </tr>\n",
       "    <tr>\n",
       "      <th>2</th>\n",
       "      <td>3</td>\n",
       "      <td>2008-03-01 02:00:00</td>\n",
       "      <td>1056.247500</td>\n",
       "      <td>2008-03-01</td>\n",
       "      <td>2</td>\n",
       "    </tr>\n",
       "    <tr>\n",
       "      <th>3</th>\n",
       "      <td>4</td>\n",
       "      <td>2008-03-01 03:00:00</td>\n",
       "      <td>1034.742000</td>\n",
       "      <td>2008-03-01</td>\n",
       "      <td>3</td>\n",
       "    </tr>\n",
       "    <tr>\n",
       "      <th>4</th>\n",
       "      <td>5</td>\n",
       "      <td>2008-03-01 04:00:00</td>\n",
       "      <td>1026.334500</td>\n",
       "      <td>2008-03-01</td>\n",
       "      <td>4</td>\n",
       "    </tr>\n",
       "    <tr>\n",
       "      <th>...</th>\n",
       "      <td>...</td>\n",
       "      <td>...</td>\n",
       "      <td>...</td>\n",
       "      <td>...</td>\n",
       "      <td>...</td>\n",
       "    </tr>\n",
       "    <tr>\n",
       "      <th>94987</th>\n",
       "      <td>94988</td>\n",
       "      <td>2018-12-31 19:00:00</td>\n",
       "      <td>2528.446800</td>\n",
       "      <td>2018-12-31</td>\n",
       "      <td>19</td>\n",
       "    </tr>\n",
       "    <tr>\n",
       "      <th>94988</th>\n",
       "      <td>94989</td>\n",
       "      <td>2018-12-31 20:00:00</td>\n",
       "      <td>2461.883600</td>\n",
       "      <td>2018-12-31</td>\n",
       "      <td>20</td>\n",
       "    </tr>\n",
       "    <tr>\n",
       "      <th>94989</th>\n",
       "      <td>94990</td>\n",
       "      <td>2018-12-31 21:00:00</td>\n",
       "      <td>2365.994400</td>\n",
       "      <td>2018-12-31</td>\n",
       "      <td>21</td>\n",
       "    </tr>\n",
       "    <tr>\n",
       "      <th>94990</th>\n",
       "      <td>94991</td>\n",
       "      <td>2018-12-31 22:00:00</td>\n",
       "      <td>2342.942800</td>\n",
       "      <td>2018-12-31</td>\n",
       "      <td>22</td>\n",
       "    </tr>\n",
       "    <tr>\n",
       "      <th>94991</th>\n",
       "      <td>94992</td>\n",
       "      <td>2018-12-31 23:00:00</td>\n",
       "      <td>2180.217600</td>\n",
       "      <td>2018-12-31</td>\n",
       "      <td>23</td>\n",
       "    </tr>\n",
       "  </tbody>\n",
       "</table>\n",
       "<p>94992 rows × 5 columns</p>\n",
       "</div>"
      ],
      "text/plain": [
       "       row_id             datetime       energy        date  Hour\n",
       "0           1  2008-03-01 00:00:00  1259.985563  2008-03-01     0\n",
       "1           2  2008-03-01 01:00:00  1095.541500  2008-03-01     1\n",
       "2           3  2008-03-01 02:00:00  1056.247500  2008-03-01     2\n",
       "3           4  2008-03-01 03:00:00  1034.742000  2008-03-01     3\n",
       "4           5  2008-03-01 04:00:00  1026.334500  2008-03-01     4\n",
       "...       ...                  ...          ...         ...   ...\n",
       "94987   94988  2018-12-31 19:00:00  2528.446800  2018-12-31    19\n",
       "94988   94989  2018-12-31 20:00:00  2461.883600  2018-12-31    20\n",
       "94989   94990  2018-12-31 21:00:00  2365.994400  2018-12-31    21\n",
       "94990   94991  2018-12-31 22:00:00  2342.942800  2018-12-31    22\n",
       "94991   94992  2018-12-31 23:00:00  2180.217600  2018-12-31    23\n",
       "\n",
       "[94992 rows x 5 columns]"
      ]
     },
     "execution_count": 18,
     "metadata": {},
     "output_type": "execute_result"
    }
   ],
   "source": [
    "df = train.copy()\n",
    "df"
   ]
  },
  {
   "cell_type": "code",
   "execution_count": 19,
   "id": "803f4ead",
   "metadata": {},
   "outputs": [
    {
     "data": {
      "text/html": [
       "<div>\n",
       "<style scoped>\n",
       "    .dataframe tbody tr th:only-of-type {\n",
       "        vertical-align: middle;\n",
       "    }\n",
       "\n",
       "    .dataframe tbody tr th {\n",
       "        vertical-align: top;\n",
       "    }\n",
       "\n",
       "    .dataframe thead th {\n",
       "        text-align: right;\n",
       "    }\n",
       "</style>\n",
       "<table border=\"1\" class=\"dataframe\">\n",
       "  <thead>\n",
       "    <tr style=\"text-align: right;\">\n",
       "      <th></th>\n",
       "      <th>row_id</th>\n",
       "      <th>datetime</th>\n",
       "      <th>energy</th>\n",
       "      <th>date</th>\n",
       "      <th>Hour</th>\n",
       "    </tr>\n",
       "  </thead>\n",
       "  <tbody>\n",
       "    <tr>\n",
       "      <th>0</th>\n",
       "      <td>1</td>\n",
       "      <td>2008-03-01 00:00:00</td>\n",
       "      <td>1259.985563</td>\n",
       "      <td>2008-03-01</td>\n",
       "      <td>0</td>\n",
       "    </tr>\n",
       "    <tr>\n",
       "      <th>1</th>\n",
       "      <td>2</td>\n",
       "      <td>2008-03-01 01:00:00</td>\n",
       "      <td>1095.541500</td>\n",
       "      <td>2008-03-01</td>\n",
       "      <td>1</td>\n",
       "    </tr>\n",
       "    <tr>\n",
       "      <th>2</th>\n",
       "      <td>3</td>\n",
       "      <td>2008-03-01 02:00:00</td>\n",
       "      <td>1056.247500</td>\n",
       "      <td>2008-03-01</td>\n",
       "      <td>2</td>\n",
       "    </tr>\n",
       "    <tr>\n",
       "      <th>3</th>\n",
       "      <td>4</td>\n",
       "      <td>2008-03-01 03:00:00</td>\n",
       "      <td>1034.742000</td>\n",
       "      <td>2008-03-01</td>\n",
       "      <td>3</td>\n",
       "    </tr>\n",
       "    <tr>\n",
       "      <th>4</th>\n",
       "      <td>5</td>\n",
       "      <td>2008-03-01 04:00:00</td>\n",
       "      <td>1026.334500</td>\n",
       "      <td>2008-03-01</td>\n",
       "      <td>4</td>\n",
       "    </tr>\n",
       "    <tr>\n",
       "      <th>...</th>\n",
       "      <td>...</td>\n",
       "      <td>...</td>\n",
       "      <td>...</td>\n",
       "      <td>...</td>\n",
       "      <td>...</td>\n",
       "    </tr>\n",
       "    <tr>\n",
       "      <th>94987</th>\n",
       "      <td>94988</td>\n",
       "      <td>2018-12-31 19:00:00</td>\n",
       "      <td>2528.446800</td>\n",
       "      <td>2018-12-31</td>\n",
       "      <td>19</td>\n",
       "    </tr>\n",
       "    <tr>\n",
       "      <th>94988</th>\n",
       "      <td>94989</td>\n",
       "      <td>2018-12-31 20:00:00</td>\n",
       "      <td>2461.883600</td>\n",
       "      <td>2018-12-31</td>\n",
       "      <td>20</td>\n",
       "    </tr>\n",
       "    <tr>\n",
       "      <th>94989</th>\n",
       "      <td>94990</td>\n",
       "      <td>2018-12-31 21:00:00</td>\n",
       "      <td>2365.994400</td>\n",
       "      <td>2018-12-31</td>\n",
       "      <td>21</td>\n",
       "    </tr>\n",
       "    <tr>\n",
       "      <th>94990</th>\n",
       "      <td>94991</td>\n",
       "      <td>2018-12-31 22:00:00</td>\n",
       "      <td>2342.942800</td>\n",
       "      <td>2018-12-31</td>\n",
       "      <td>22</td>\n",
       "    </tr>\n",
       "    <tr>\n",
       "      <th>94991</th>\n",
       "      <td>94992</td>\n",
       "      <td>2018-12-31 23:00:00</td>\n",
       "      <td>2180.217600</td>\n",
       "      <td>2018-12-31</td>\n",
       "      <td>23</td>\n",
       "    </tr>\n",
       "  </tbody>\n",
       "</table>\n",
       "<p>93092 rows × 5 columns</p>\n",
       "</div>"
      ],
      "text/plain": [
       "       row_id             datetime       energy        date  Hour\n",
       "0           1  2008-03-01 00:00:00  1259.985563  2008-03-01     0\n",
       "1           2  2008-03-01 01:00:00  1095.541500  2008-03-01     1\n",
       "2           3  2008-03-01 02:00:00  1056.247500  2008-03-01     2\n",
       "3           4  2008-03-01 03:00:00  1034.742000  2008-03-01     3\n",
       "4           5  2008-03-01 04:00:00  1026.334500  2008-03-01     4\n",
       "...       ...                  ...          ...         ...   ...\n",
       "94987   94988  2018-12-31 19:00:00  2528.446800  2018-12-31    19\n",
       "94988   94989  2018-12-31 20:00:00  2461.883600  2018-12-31    20\n",
       "94989   94990  2018-12-31 21:00:00  2365.994400  2018-12-31    21\n",
       "94990   94991  2018-12-31 22:00:00  2342.942800  2018-12-31    22\n",
       "94991   94992  2018-12-31 23:00:00  2180.217600  2018-12-31    23\n",
       "\n",
       "[93092 rows x 5 columns]"
      ]
     },
     "execution_count": 19,
     "metadata": {},
     "output_type": "execute_result"
    }
   ],
   "source": [
    "#Creating filter\n",
    "df_filter = df.isin([np.nan, np.inf, -np.inf])\n",
    "  \n",
    "# Masking df with the filter\n",
    "df = df[~df_filter]\n",
    "  \n",
    "# Dropping rows with nan values\n",
    "df.dropna(inplace=True)\n",
    "  \n",
    "# Printing df\n",
    "df"
   ]
  },
  {
   "cell_type": "code",
   "execution_count": 20,
   "id": "bbeb244c",
   "metadata": {},
   "outputs": [],
   "source": [
    "#Dropping Row Columns\n"
   ]
  },
  {
   "cell_type": "code",
   "execution_count": 21,
   "id": "0d40523a",
   "metadata": {},
   "outputs": [
    {
     "data": {
      "text/plain": [
       "row_id        int64\n",
       "datetime     object\n",
       "energy      float64\n",
       "date         object\n",
       "Hour          int64\n",
       "dtype: object"
      ]
     },
     "execution_count": 21,
     "metadata": {},
     "output_type": "execute_result"
    }
   ],
   "source": [
    "df.dtypes"
   ]
  },
  {
   "cell_type": "code",
   "execution_count": 22,
   "id": "f8039259",
   "metadata": {},
   "outputs": [],
   "source": [
    " # Extract date feature\n",
    "df['date'] = pd.to_datetime(df['date'])\n",
    "df['year'] = df['date'].apply(lambda x: x.year)\n",
    "df['month'] = df['date'].apply(lambda x: x.month)\n",
    "df['day'] = df['date'].apply(lambda x: x.day)\n",
    "df['day_of_week'] = df['date'].apply(lambda x: x.dayofweek)\n",
    "df['is_quarter_date'] = df['date'].apply(lambda x: x.quarter)\n",
    "df['is_weekend'] = df['day_of_week'].apply(lambda x: 1 if x>4 else 0)\n",
    "\n",
    "df.drop(['date'], axis=1, inplace=True)"
   ]
  },
  {
   "cell_type": "code",
   "execution_count": 23,
   "id": "d2a7c488",
   "metadata": {},
   "outputs": [],
   "source": [
    "# Extract date feature for test\n",
    "test['date'] = pd.to_datetime(test['date'])\n",
    "test['year'] = test['date'].apply(lambda x: x.year)\n",
    "test['month'] = test['date'].apply(lambda x: x.month)\n",
    "test['day'] = test['date'].apply(lambda x: x.day)\n",
    "test['day_of_week'] = test['date'].apply(lambda x: x.dayofweek)\n",
    "test['is_quarter_date'] = test['date'].apply(lambda x: x.quarter)\n",
    "test['is_weekend'] = test['day_of_week'].apply(lambda x: 1 if x>4 else 0)\n",
    "\n",
    "test.drop(['date'], axis=1, inplace=True)"
   ]
  },
  {
   "cell_type": "code",
   "execution_count": 24,
   "id": "1d226490",
   "metadata": {},
   "outputs": [
    {
     "data": {
      "text/html": [
       "<div>\n",
       "<style scoped>\n",
       "    .dataframe tbody tr th:only-of-type {\n",
       "        vertical-align: middle;\n",
       "    }\n",
       "\n",
       "    .dataframe tbody tr th {\n",
       "        vertical-align: top;\n",
       "    }\n",
       "\n",
       "    .dataframe thead th {\n",
       "        text-align: right;\n",
       "    }\n",
       "</style>\n",
       "<table border=\"1\" class=\"dataframe\">\n",
       "  <thead>\n",
       "    <tr style=\"text-align: right;\">\n",
       "      <th></th>\n",
       "      <th>row_id</th>\n",
       "      <th>datetime</th>\n",
       "      <th>Hour</th>\n",
       "      <th>year</th>\n",
       "      <th>month</th>\n",
       "      <th>day</th>\n",
       "      <th>day_of_week</th>\n",
       "      <th>is_quarter_date</th>\n",
       "      <th>is_weekend</th>\n",
       "    </tr>\n",
       "  </thead>\n",
       "  <tbody>\n",
       "    <tr>\n",
       "      <th>0</th>\n",
       "      <td>94993</td>\n",
       "      <td>2019-01-01 00:00:00</td>\n",
       "      <td>0</td>\n",
       "      <td>2019</td>\n",
       "      <td>1</td>\n",
       "      <td>1</td>\n",
       "      <td>1</td>\n",
       "      <td>1</td>\n",
       "      <td>0</td>\n",
       "    </tr>\n",
       "    <tr>\n",
       "      <th>1</th>\n",
       "      <td>94994</td>\n",
       "      <td>2019-01-01 01:00:00</td>\n",
       "      <td>1</td>\n",
       "      <td>2019</td>\n",
       "      <td>1</td>\n",
       "      <td>1</td>\n",
       "      <td>1</td>\n",
       "      <td>1</td>\n",
       "      <td>0</td>\n",
       "    </tr>\n",
       "    <tr>\n",
       "      <th>2</th>\n",
       "      <td>94995</td>\n",
       "      <td>2019-01-01 02:00:00</td>\n",
       "      <td>2</td>\n",
       "      <td>2019</td>\n",
       "      <td>1</td>\n",
       "      <td>1</td>\n",
       "      <td>1</td>\n",
       "      <td>1</td>\n",
       "      <td>0</td>\n",
       "    </tr>\n",
       "    <tr>\n",
       "      <th>3</th>\n",
       "      <td>94996</td>\n",
       "      <td>2019-01-01 03:00:00</td>\n",
       "      <td>3</td>\n",
       "      <td>2019</td>\n",
       "      <td>1</td>\n",
       "      <td>1</td>\n",
       "      <td>1</td>\n",
       "      <td>1</td>\n",
       "      <td>0</td>\n",
       "    </tr>\n",
       "    <tr>\n",
       "      <th>4</th>\n",
       "      <td>94997</td>\n",
       "      <td>2019-01-01 04:00:00</td>\n",
       "      <td>4</td>\n",
       "      <td>2019</td>\n",
       "      <td>1</td>\n",
       "      <td>1</td>\n",
       "      <td>1</td>\n",
       "      <td>1</td>\n",
       "      <td>0</td>\n",
       "    </tr>\n",
       "    <tr>\n",
       "      <th>...</th>\n",
       "      <td>...</td>\n",
       "      <td>...</td>\n",
       "      <td>...</td>\n",
       "      <td>...</td>\n",
       "      <td>...</td>\n",
       "      <td>...</td>\n",
       "      <td>...</td>\n",
       "      <td>...</td>\n",
       "      <td>...</td>\n",
       "    </tr>\n",
       "    <tr>\n",
       "      <th>26299</th>\n",
       "      <td>121292</td>\n",
       "      <td>2021-12-31 19:00:00</td>\n",
       "      <td>19</td>\n",
       "      <td>2021</td>\n",
       "      <td>12</td>\n",
       "      <td>31</td>\n",
       "      <td>4</td>\n",
       "      <td>4</td>\n",
       "      <td>0</td>\n",
       "    </tr>\n",
       "    <tr>\n",
       "      <th>26300</th>\n",
       "      <td>121293</td>\n",
       "      <td>2021-12-31 20:00:00</td>\n",
       "      <td>20</td>\n",
       "      <td>2021</td>\n",
       "      <td>12</td>\n",
       "      <td>31</td>\n",
       "      <td>4</td>\n",
       "      <td>4</td>\n",
       "      <td>0</td>\n",
       "    </tr>\n",
       "    <tr>\n",
       "      <th>26301</th>\n",
       "      <td>121294</td>\n",
       "      <td>2021-12-31 21:00:00</td>\n",
       "      <td>21</td>\n",
       "      <td>2021</td>\n",
       "      <td>12</td>\n",
       "      <td>31</td>\n",
       "      <td>4</td>\n",
       "      <td>4</td>\n",
       "      <td>0</td>\n",
       "    </tr>\n",
       "    <tr>\n",
       "      <th>26302</th>\n",
       "      <td>121295</td>\n",
       "      <td>2021-12-31 22:00:00</td>\n",
       "      <td>22</td>\n",
       "      <td>2021</td>\n",
       "      <td>12</td>\n",
       "      <td>31</td>\n",
       "      <td>4</td>\n",
       "      <td>4</td>\n",
       "      <td>0</td>\n",
       "    </tr>\n",
       "    <tr>\n",
       "      <th>26303</th>\n",
       "      <td>121296</td>\n",
       "      <td>2021-12-31 23:00:00</td>\n",
       "      <td>23</td>\n",
       "      <td>2021</td>\n",
       "      <td>12</td>\n",
       "      <td>31</td>\n",
       "      <td>4</td>\n",
       "      <td>4</td>\n",
       "      <td>0</td>\n",
       "    </tr>\n",
       "  </tbody>\n",
       "</table>\n",
       "<p>26304 rows × 9 columns</p>\n",
       "</div>"
      ],
      "text/plain": [
       "       row_id             datetime  Hour  year  month  day  day_of_week  \\\n",
       "0       94993  2019-01-01 00:00:00     0  2019      1    1            1   \n",
       "1       94994  2019-01-01 01:00:00     1  2019      1    1            1   \n",
       "2       94995  2019-01-01 02:00:00     2  2019      1    1            1   \n",
       "3       94996  2019-01-01 03:00:00     3  2019      1    1            1   \n",
       "4       94997  2019-01-01 04:00:00     4  2019      1    1            1   \n",
       "...       ...                  ...   ...   ...    ...  ...          ...   \n",
       "26299  121292  2021-12-31 19:00:00    19  2021     12   31            4   \n",
       "26300  121293  2021-12-31 20:00:00    20  2021     12   31            4   \n",
       "26301  121294  2021-12-31 21:00:00    21  2021     12   31            4   \n",
       "26302  121295  2021-12-31 22:00:00    22  2021     12   31            4   \n",
       "26303  121296  2021-12-31 23:00:00    23  2021     12   31            4   \n",
       "\n",
       "       is_quarter_date  is_weekend  \n",
       "0                    1           0  \n",
       "1                    1           0  \n",
       "2                    1           0  \n",
       "3                    1           0  \n",
       "4                    1           0  \n",
       "...                ...         ...  \n",
       "26299                4           0  \n",
       "26300                4           0  \n",
       "26301                4           0  \n",
       "26302                4           0  \n",
       "26303                4           0  \n",
       "\n",
       "[26304 rows x 9 columns]"
      ]
     },
     "execution_count": 24,
     "metadata": {},
     "output_type": "execute_result"
    }
   ],
   "source": [
    "test"
   ]
  },
  {
   "cell_type": "code",
   "execution_count": 25,
   "id": "8a54c6df",
   "metadata": {},
   "outputs": [],
   "source": [
    "#creating function to identify time of day: morning, afternoon, evening, night, etc.\n",
    "def time_of_day(n):\n",
    "    if n in range(4,8):\n",
    "        return 'Early Morning'\n",
    "    elif n in range(8,12):\n",
    "        return 'Morning'\n",
    "    elif n in range(12,18):\n",
    "        return 'Afternoon'\n",
    "    elif n in range(18,21):\n",
    "        return 'Evening'\n",
    "    elif n in range(21,25) or n==0:\n",
    "        return 'Night'\n",
    "    elif n in range(1,4):\n",
    "        return 'Late Night'\n",
    "    \n",
    "df['Type_of_Day'] = df['Hour'].apply(lambda x: time_of_day(x))"
   ]
  },
  {
   "cell_type": "code",
   "execution_count": 26,
   "id": "29494a6c",
   "metadata": {},
   "outputs": [
    {
     "data": {
      "text/html": [
       "<div>\n",
       "<style scoped>\n",
       "    .dataframe tbody tr th:only-of-type {\n",
       "        vertical-align: middle;\n",
       "    }\n",
       "\n",
       "    .dataframe tbody tr th {\n",
       "        vertical-align: top;\n",
       "    }\n",
       "\n",
       "    .dataframe thead th {\n",
       "        text-align: right;\n",
       "    }\n",
       "</style>\n",
       "<table border=\"1\" class=\"dataframe\">\n",
       "  <thead>\n",
       "    <tr style=\"text-align: right;\">\n",
       "      <th></th>\n",
       "      <th>row_id</th>\n",
       "      <th>datetime</th>\n",
       "      <th>energy</th>\n",
       "      <th>Hour</th>\n",
       "      <th>year</th>\n",
       "      <th>month</th>\n",
       "      <th>day</th>\n",
       "      <th>day_of_week</th>\n",
       "      <th>is_quarter_date</th>\n",
       "      <th>is_weekend</th>\n",
       "      <th>Type_of_Day</th>\n",
       "    </tr>\n",
       "  </thead>\n",
       "  <tbody>\n",
       "    <tr>\n",
       "      <th>0</th>\n",
       "      <td>1</td>\n",
       "      <td>2008-03-01 00:00:00</td>\n",
       "      <td>1259.985563</td>\n",
       "      <td>0</td>\n",
       "      <td>2008</td>\n",
       "      <td>3</td>\n",
       "      <td>1</td>\n",
       "      <td>5</td>\n",
       "      <td>1</td>\n",
       "      <td>1</td>\n",
       "      <td>Night</td>\n",
       "    </tr>\n",
       "    <tr>\n",
       "      <th>1</th>\n",
       "      <td>2</td>\n",
       "      <td>2008-03-01 01:00:00</td>\n",
       "      <td>1095.541500</td>\n",
       "      <td>1</td>\n",
       "      <td>2008</td>\n",
       "      <td>3</td>\n",
       "      <td>1</td>\n",
       "      <td>5</td>\n",
       "      <td>1</td>\n",
       "      <td>1</td>\n",
       "      <td>Late Night</td>\n",
       "    </tr>\n",
       "    <tr>\n",
       "      <th>2</th>\n",
       "      <td>3</td>\n",
       "      <td>2008-03-01 02:00:00</td>\n",
       "      <td>1056.247500</td>\n",
       "      <td>2</td>\n",
       "      <td>2008</td>\n",
       "      <td>3</td>\n",
       "      <td>1</td>\n",
       "      <td>5</td>\n",
       "      <td>1</td>\n",
       "      <td>1</td>\n",
       "      <td>Late Night</td>\n",
       "    </tr>\n",
       "    <tr>\n",
       "      <th>3</th>\n",
       "      <td>4</td>\n",
       "      <td>2008-03-01 03:00:00</td>\n",
       "      <td>1034.742000</td>\n",
       "      <td>3</td>\n",
       "      <td>2008</td>\n",
       "      <td>3</td>\n",
       "      <td>1</td>\n",
       "      <td>5</td>\n",
       "      <td>1</td>\n",
       "      <td>1</td>\n",
       "      <td>Late Night</td>\n",
       "    </tr>\n",
       "    <tr>\n",
       "      <th>4</th>\n",
       "      <td>5</td>\n",
       "      <td>2008-03-01 04:00:00</td>\n",
       "      <td>1026.334500</td>\n",
       "      <td>4</td>\n",
       "      <td>2008</td>\n",
       "      <td>3</td>\n",
       "      <td>1</td>\n",
       "      <td>5</td>\n",
       "      <td>1</td>\n",
       "      <td>1</td>\n",
       "      <td>Early Morning</td>\n",
       "    </tr>\n",
       "    <tr>\n",
       "      <th>...</th>\n",
       "      <td>...</td>\n",
       "      <td>...</td>\n",
       "      <td>...</td>\n",
       "      <td>...</td>\n",
       "      <td>...</td>\n",
       "      <td>...</td>\n",
       "      <td>...</td>\n",
       "      <td>...</td>\n",
       "      <td>...</td>\n",
       "      <td>...</td>\n",
       "      <td>...</td>\n",
       "    </tr>\n",
       "    <tr>\n",
       "      <th>94987</th>\n",
       "      <td>94988</td>\n",
       "      <td>2018-12-31 19:00:00</td>\n",
       "      <td>2528.446800</td>\n",
       "      <td>19</td>\n",
       "      <td>2018</td>\n",
       "      <td>12</td>\n",
       "      <td>31</td>\n",
       "      <td>0</td>\n",
       "      <td>4</td>\n",
       "      <td>0</td>\n",
       "      <td>Evening</td>\n",
       "    </tr>\n",
       "    <tr>\n",
       "      <th>94988</th>\n",
       "      <td>94989</td>\n",
       "      <td>2018-12-31 20:00:00</td>\n",
       "      <td>2461.883600</td>\n",
       "      <td>20</td>\n",
       "      <td>2018</td>\n",
       "      <td>12</td>\n",
       "      <td>31</td>\n",
       "      <td>0</td>\n",
       "      <td>4</td>\n",
       "      <td>0</td>\n",
       "      <td>Evening</td>\n",
       "    </tr>\n",
       "    <tr>\n",
       "      <th>94989</th>\n",
       "      <td>94990</td>\n",
       "      <td>2018-12-31 21:00:00</td>\n",
       "      <td>2365.994400</td>\n",
       "      <td>21</td>\n",
       "      <td>2018</td>\n",
       "      <td>12</td>\n",
       "      <td>31</td>\n",
       "      <td>0</td>\n",
       "      <td>4</td>\n",
       "      <td>0</td>\n",
       "      <td>Night</td>\n",
       "    </tr>\n",
       "    <tr>\n",
       "      <th>94990</th>\n",
       "      <td>94991</td>\n",
       "      <td>2018-12-31 22:00:00</td>\n",
       "      <td>2342.942800</td>\n",
       "      <td>22</td>\n",
       "      <td>2018</td>\n",
       "      <td>12</td>\n",
       "      <td>31</td>\n",
       "      <td>0</td>\n",
       "      <td>4</td>\n",
       "      <td>0</td>\n",
       "      <td>Night</td>\n",
       "    </tr>\n",
       "    <tr>\n",
       "      <th>94991</th>\n",
       "      <td>94992</td>\n",
       "      <td>2018-12-31 23:00:00</td>\n",
       "      <td>2180.217600</td>\n",
       "      <td>23</td>\n",
       "      <td>2018</td>\n",
       "      <td>12</td>\n",
       "      <td>31</td>\n",
       "      <td>0</td>\n",
       "      <td>4</td>\n",
       "      <td>0</td>\n",
       "      <td>Night</td>\n",
       "    </tr>\n",
       "  </tbody>\n",
       "</table>\n",
       "<p>93092 rows × 11 columns</p>\n",
       "</div>"
      ],
      "text/plain": [
       "       row_id             datetime       energy  Hour  year  month  day  \\\n",
       "0           1  2008-03-01 00:00:00  1259.985563     0  2008      3    1   \n",
       "1           2  2008-03-01 01:00:00  1095.541500     1  2008      3    1   \n",
       "2           3  2008-03-01 02:00:00  1056.247500     2  2008      3    1   \n",
       "3           4  2008-03-01 03:00:00  1034.742000     3  2008      3    1   \n",
       "4           5  2008-03-01 04:00:00  1026.334500     4  2008      3    1   \n",
       "...       ...                  ...          ...   ...   ...    ...  ...   \n",
       "94987   94988  2018-12-31 19:00:00  2528.446800    19  2018     12   31   \n",
       "94988   94989  2018-12-31 20:00:00  2461.883600    20  2018     12   31   \n",
       "94989   94990  2018-12-31 21:00:00  2365.994400    21  2018     12   31   \n",
       "94990   94991  2018-12-31 22:00:00  2342.942800    22  2018     12   31   \n",
       "94991   94992  2018-12-31 23:00:00  2180.217600    23  2018     12   31   \n",
       "\n",
       "       day_of_week  is_quarter_date  is_weekend    Type_of_Day  \n",
       "0                5                1           1          Night  \n",
       "1                5                1           1     Late Night  \n",
       "2                5                1           1     Late Night  \n",
       "3                5                1           1     Late Night  \n",
       "4                5                1           1  Early Morning  \n",
       "...            ...              ...         ...            ...  \n",
       "94987            0                4           0        Evening  \n",
       "94988            0                4           0        Evening  \n",
       "94989            0                4           0          Night  \n",
       "94990            0                4           0          Night  \n",
       "94991            0                4           0          Night  \n",
       "\n",
       "[93092 rows x 11 columns]"
      ]
     },
     "execution_count": 26,
     "metadata": {},
     "output_type": "execute_result"
    }
   ],
   "source": [
    "df"
   ]
  },
  {
   "cell_type": "code",
   "execution_count": 27,
   "id": "412b462b",
   "metadata": {},
   "outputs": [],
   "source": [
    "test['Type_of_Day'] = test['Hour'].apply(lambda x: time_of_day(x))"
   ]
  },
  {
   "cell_type": "code",
   "execution_count": 28,
   "id": "d2ef1b95",
   "metadata": {},
   "outputs": [],
   "source": [
    "def month2seasons(x):\n",
    "    if x in [9, 10, 11]:\n",
    "        season = 'Spring'\n",
    "    elif x in [12, 1, 2]:\n",
    "        season = 'Summer'\n",
    "    elif x in [3, 4, 5]:\n",
    "        season = 'Autumn'\n",
    "    elif x in [6, 7, 8]:\n",
    "        season = 'Winter'\n",
    "    return season\n",
    "\n",
    "df['Season'] = df['month'].apply(month2seasons)\n",
    "test['Season'] = test['month'].apply(month2seasons)"
   ]
  },
  {
   "cell_type": "code",
   "execution_count": 29,
   "id": "a9558f39",
   "metadata": {},
   "outputs": [
    {
     "name": "stdout",
     "output_type": "stream",
     "text": [
      "       row_id             datetime       energy  Hour  year  month  day  \\\n",
      "0           1  2008-03-01 00:00:00  1259.985563     0  2008      3    1   \n",
      "1           2  2008-03-01 01:00:00  1095.541500     1  2008      3    1   \n",
      "2           3  2008-03-01 02:00:00  1056.247500     2  2008      3    1   \n",
      "3           4  2008-03-01 03:00:00  1034.742000     3  2008      3    1   \n",
      "4           5  2008-03-01 04:00:00  1026.334500     4  2008      3    1   \n",
      "...       ...                  ...          ...   ...   ...    ...  ...   \n",
      "94987   94988  2018-12-31 19:00:00  2528.446800    19  2018     12   31   \n",
      "94988   94989  2018-12-31 20:00:00  2461.883600    20  2018     12   31   \n",
      "94989   94990  2018-12-31 21:00:00  2365.994400    21  2018     12   31   \n",
      "94990   94991  2018-12-31 22:00:00  2342.942800    22  2018     12   31   \n",
      "94991   94992  2018-12-31 23:00:00  2180.217600    23  2018     12   31   \n",
      "\n",
      "       day_of_week  is_quarter_date  is_weekend    Type_of_Day  Season  \n",
      "0                5                1           1          Night  Autumn  \n",
      "1                5                1           1     Late Night  Autumn  \n",
      "2                5                1           1     Late Night  Autumn  \n",
      "3                5                1           1     Late Night  Autumn  \n",
      "4                5                1           1  Early Morning  Autumn  \n",
      "...            ...              ...         ...            ...     ...  \n",
      "94987            0                4           0        Evening  Summer  \n",
      "94988            0                4           0        Evening  Summer  \n",
      "94989            0                4           0          Night  Summer  \n",
      "94990            0                4           0          Night  Summer  \n",
      "94991            0                4           0          Night  Summer  \n",
      "\n",
      "[93092 rows x 12 columns]\n",
      "       row_id             datetime  Hour  year  month  day  day_of_week  \\\n",
      "0       94993  2019-01-01 00:00:00     0  2019      1    1            1   \n",
      "1       94994  2019-01-01 01:00:00     1  2019      1    1            1   \n",
      "2       94995  2019-01-01 02:00:00     2  2019      1    1            1   \n",
      "3       94996  2019-01-01 03:00:00     3  2019      1    1            1   \n",
      "4       94997  2019-01-01 04:00:00     4  2019      1    1            1   \n",
      "...       ...                  ...   ...   ...    ...  ...          ...   \n",
      "26299  121292  2021-12-31 19:00:00    19  2021     12   31            4   \n",
      "26300  121293  2021-12-31 20:00:00    20  2021     12   31            4   \n",
      "26301  121294  2021-12-31 21:00:00    21  2021     12   31            4   \n",
      "26302  121295  2021-12-31 22:00:00    22  2021     12   31            4   \n",
      "26303  121296  2021-12-31 23:00:00    23  2021     12   31            4   \n",
      "\n",
      "       is_quarter_date  is_weekend    Type_of_Day  Season  \n",
      "0                    1           0          Night  Summer  \n",
      "1                    1           0     Late Night  Summer  \n",
      "2                    1           0     Late Night  Summer  \n",
      "3                    1           0     Late Night  Summer  \n",
      "4                    1           0  Early Morning  Summer  \n",
      "...                ...         ...            ...     ...  \n",
      "26299                4           0        Evening  Summer  \n",
      "26300                4           0        Evening  Summer  \n",
      "26301                4           0          Night  Summer  \n",
      "26302                4           0          Night  Summer  \n",
      "26303                4           0          Night  Summer  \n",
      "\n",
      "[26304 rows x 11 columns]\n"
     ]
    }
   ],
   "source": [
    "print(df)\n",
    "print(test)"
   ]
  },
  {
   "cell_type": "code",
   "execution_count": 30,
   "id": "f20a8df1",
   "metadata": {},
   "outputs": [],
   "source": [
    "df['Type_of_Day'].replace({'Afternoon': 0, 'Morning' : 1, 'Night':2, 'Evening':3, 'Early Morning':4, 'Late Night':5}, \n",
    "                          inplace=True)\n",
    "df['Season'].replace({'Spring':0, 'Summer':1, 'Autumn':2, 'Winter':3}, inplace=True)"
   ]
  },
  {
   "cell_type": "code",
   "execution_count": 31,
   "id": "8a591e2b",
   "metadata": {},
   "outputs": [],
   "source": [
    "test['Type_of_Day'].replace({'Afternoon': 0, 'Morning' : 1, 'Night':2, 'Evening':3, 'Early Morning':4, 'Late Night':5}, \n",
    "                          inplace=True)\n",
    "test['Season'].replace({'Spring':0, 'Summer':1, 'Autumn':2, 'Winter':3}, inplace=True)"
   ]
  },
  {
   "cell_type": "code",
   "execution_count": 32,
   "id": "5a56f817",
   "metadata": {},
   "outputs": [
    {
     "data": {
      "text/plain": [
       "<AxesSubplot:xlabel='Hour', ylabel='energy'>"
      ]
     },
     "execution_count": 32,
     "metadata": {},
     "output_type": "execute_result"
    },
    {
     "data": {
      "image/png": "[encoded data removed]",
      "text/plain": [
       "<Figure size 1000x600 with 1 Axes>"
      ]
     },
     "metadata": {},
     "output_type": "display_data"
    }
   ],
   "source": [
    "plt.figure(figsize=(10,6))\n",
    "sns.barplot(x=df['Hour'], y=df['energy'])"
   ]
  },
  {
   "cell_type": "code",
   "execution_count": 33,
   "id": "9c934909",
   "metadata": {},
   "outputs": [
    {
     "data": {
      "text/plain": [
       "<AxesSubplot:xlabel='Season', ylabel='energy'>"
      ]
     },
     "execution_count": 33,
     "metadata": {},
     "output_type": "execute_result"
    },
    {
     "data": {
      "image/png": "[encoded data removed]",
      "text/plain": [
       "<Figure size 1000x600 with 1 Axes>"
      ]
     },
     "metadata": {},
     "output_type": "display_data"
    }
   ],
   "source": [
    "plt.figure(figsize=(10,6))\n",
    "sns.barplot(x=df['Season'], y=df['energy'])"
   ]
  },
  {
   "cell_type": "code",
   "execution_count": 34,
   "id": "b11281cf",
   "metadata": {},
   "outputs": [
    {
     "data": {
      "text/plain": [
       "<AxesSubplot:xlabel='Type_of_Day', ylabel='energy'>"
      ]
     },
     "execution_count": 34,
     "metadata": {},
     "output_type": "execute_result"
    },
    {
     "data": {
      "image/png": "[encoded data removed]",
      "text/plain": [
       "<Figure size 1000x600 with 1 Axes>"
      ]
     },
     "metadata": {},
     "output_type": "display_data"
    }
   ],
   "source": [
    "plt.figure(figsize=(10,6))\n",
    "sns.barplot(x=df['Type_of_Day'], y=df['energy'])"
   ]
  },
  {
   "cell_type": "code",
   "execution_count": 35,
   "id": "2a43abef",
   "metadata": {},
   "outputs": [
    {
     "data": {
      "text/plain": [
       "<AxesSubplot:xlabel='year', ylabel='energy'>"
      ]
     },
     "execution_count": 35,
     "metadata": {},
     "output_type": "execute_result"
    },
    {
     "data": {
      "image/png": "[encoded data removed]",
      "text/plain": [
       "<Figure size 1000x600 with 1 Axes>"
      ]
     },
     "metadata": {},
     "output_type": "display_data"
    }
   ],
   "source": [
    "plt.figure(figsize=(10,6))\n",
    "sns.barplot(x=df['year'], y=df['energy'])"
   ]
  },
  {
   "cell_type": "code",
   "execution_count": 36,
   "id": "7f72b255",
   "metadata": {},
   "outputs": [],
   "source": [
    "#split df into X & y\n",
    "y = df['energy'].copy()\n",
    "X = df.drop('energy', axis=1).copy()"
   ]
  },
  {
   "cell_type": "code",
   "execution_count": 37,
   "id": "d94f7e90",
   "metadata": {},
   "outputs": [],
   "source": [
    "# Feature engineering of hour of month like cyclical feature & days in week feature\n",
    "X['hour_sin'] = np.sin(X['Hour']*(2.*np.pi/24))\n",
    "X['hour_cos'] = np.cos(X['Hour']*(2.*np.pi/24))\n",
    "X['month_sin'] = np.sin((X['month']-1)*(2.*np.pi/12))\n",
    "X['month_cos'] = np.cos((X['month']-1)*(2.*np.pi/12))\n",
    "\n",
    "X['day_of_week'] = np.cos(X['day_of_week'])\n",
    "\n",
    "X.drop(['Hour', 'month'], axis=1, inplace=True)"
   ]
  },
  {
   "cell_type": "code",
   "execution_count": 38,
   "id": "e2604740",
   "metadata": {},
   "outputs": [],
   "source": [
    "# Feature engineering of hour of month like cyclical feature & days in week feature\n",
    "test['hour_sin'] = np.sin(test['Hour']*(2.*np.pi/24))\n",
    "test['hour_cos'] = np.cos(test['Hour']*(2.*np.pi/24))\n",
    "test['month_sin'] = np.sin((test['month']-1)*(2.*np.pi/12))\n",
    "test['month_cos'] = np.cos((test['month']-1)*(2.*np.pi/12))\n",
    "\n",
    "test['day_of_week'] = np.cos(test['day_of_week'])\n",
    "\n",
    "test.drop(['Hour', 'month'], axis=1, inplace=True)"
   ]
  },
  {
   "cell_type": "code",
   "execution_count": 39,
   "id": "65f91f6a",
   "metadata": {},
   "outputs": [
    {
     "data": {
      "text/html": [
       "<div>\n",
       "<style scoped>\n",
       "    .dataframe tbody tr th:only-of-type {\n",
       "        vertical-align: middle;\n",
       "    }\n",
       "\n",
       "    .dataframe tbody tr th {\n",
       "        vertical-align: top;\n",
       "    }\n",
       "\n",
       "    .dataframe thead th {\n",
       "        text-align: right;\n",
       "    }\n",
       "</style>\n",
       "<table border=\"1\" class=\"dataframe\">\n",
       "  <thead>\n",
       "    <tr style=\"text-align: right;\">\n",
       "      <th></th>\n",
       "      <th>row_id</th>\n",
       "      <th>datetime</th>\n",
       "      <th>year</th>\n",
       "      <th>day</th>\n",
       "      <th>day_of_week</th>\n",
       "      <th>is_quarter_date</th>\n",
       "      <th>is_weekend</th>\n",
       "      <th>Type_of_Day</th>\n",
       "      <th>Season</th>\n",
       "      <th>hour_sin</th>\n",
       "      <th>hour_cos</th>\n",
       "      <th>month_sin</th>\n",
       "      <th>month_cos</th>\n",
       "    </tr>\n",
       "  </thead>\n",
       "  <tbody>\n",
       "    <tr>\n",
       "      <th>0</th>\n",
       "      <td>1</td>\n",
       "      <td>2008-03-01 00:00:00</td>\n",
       "      <td>2008</td>\n",
       "      <td>1</td>\n",
       "      <td>0.28</td>\n",
       "      <td>1</td>\n",
       "      <td>1</td>\n",
       "      <td>2</td>\n",
       "      <td>2</td>\n",
       "      <td>0.00</td>\n",
       "      <td>1.00</td>\n",
       "      <td>0.87</td>\n",
       "      <td>0.50</td>\n",
       "    </tr>\n",
       "    <tr>\n",
       "      <th>1</th>\n",
       "      <td>2</td>\n",
       "      <td>2008-03-01 01:00:00</td>\n",
       "      <td>2008</td>\n",
       "      <td>1</td>\n",
       "      <td>0.28</td>\n",
       "      <td>1</td>\n",
       "      <td>1</td>\n",
       "      <td>5</td>\n",
       "      <td>2</td>\n",
       "      <td>0.26</td>\n",
       "      <td>0.97</td>\n",
       "      <td>0.87</td>\n",
       "      <td>0.50</td>\n",
       "    </tr>\n",
       "    <tr>\n",
       "      <th>2</th>\n",
       "      <td>3</td>\n",
       "      <td>2008-03-01 02:00:00</td>\n",
       "      <td>2008</td>\n",
       "      <td>1</td>\n",
       "      <td>0.28</td>\n",
       "      <td>1</td>\n",
       "      <td>1</td>\n",
       "      <td>5</td>\n",
       "      <td>2</td>\n",
       "      <td>0.50</td>\n",
       "      <td>0.87</td>\n",
       "      <td>0.87</td>\n",
       "      <td>0.50</td>\n",
       "    </tr>\n",
       "    <tr>\n",
       "      <th>3</th>\n",
       "      <td>4</td>\n",
       "      <td>2008-03-01 03:00:00</td>\n",
       "      <td>2008</td>\n",
       "      <td>1</td>\n",
       "      <td>0.28</td>\n",
       "      <td>1</td>\n",
       "      <td>1</td>\n",
       "      <td>5</td>\n",
       "      <td>2</td>\n",
       "      <td>0.71</td>\n",
       "      <td>0.71</td>\n",
       "      <td>0.87</td>\n",
       "      <td>0.50</td>\n",
       "    </tr>\n",
       "    <tr>\n",
       "      <th>4</th>\n",
       "      <td>5</td>\n",
       "      <td>2008-03-01 04:00:00</td>\n",
       "      <td>2008</td>\n",
       "      <td>1</td>\n",
       "      <td>0.28</td>\n",
       "      <td>1</td>\n",
       "      <td>1</td>\n",
       "      <td>4</td>\n",
       "      <td>2</td>\n",
       "      <td>0.87</td>\n",
       "      <td>0.50</td>\n",
       "      <td>0.87</td>\n",
       "      <td>0.50</td>\n",
       "    </tr>\n",
       "    <tr>\n",
       "      <th>...</th>\n",
       "      <td>...</td>\n",
       "      <td>...</td>\n",
       "      <td>...</td>\n",
       "      <td>...</td>\n",
       "      <td>...</td>\n",
       "      <td>...</td>\n",
       "      <td>...</td>\n",
       "      <td>...</td>\n",
       "      <td>...</td>\n",
       "      <td>...</td>\n",
       "      <td>...</td>\n",
       "      <td>...</td>\n",
       "      <td>...</td>\n",
       "    </tr>\n",
       "    <tr>\n",
       "      <th>94987</th>\n",
       "      <td>94988</td>\n",
       "      <td>2018-12-31 19:00:00</td>\n",
       "      <td>2018</td>\n",
       "      <td>31</td>\n",
       "      <td>1.00</td>\n",
       "      <td>4</td>\n",
       "      <td>0</td>\n",
       "      <td>3</td>\n",
       "      <td>1</td>\n",
       "      <td>-0.97</td>\n",
       "      <td>0.26</td>\n",
       "      <td>-0.50</td>\n",
       "      <td>0.87</td>\n",
       "    </tr>\n",
       "    <tr>\n",
       "      <th>94988</th>\n",
       "      <td>94989</td>\n",
       "      <td>2018-12-31 20:00:00</td>\n",
       "      <td>2018</td>\n",
       "      <td>31</td>\n",
       "      <td>1.00</td>\n",
       "      <td>4</td>\n",
       "      <td>0</td>\n",
       "      <td>3</td>\n",
       "      <td>1</td>\n",
       "      <td>-0.87</td>\n",
       "      <td>0.50</td>\n",
       "      <td>-0.50</td>\n",
       "      <td>0.87</td>\n",
       "    </tr>\n",
       "    <tr>\n",
       "      <th>94989</th>\n",
       "      <td>94990</td>\n",
       "      <td>2018-12-31 21:00:00</td>\n",
       "      <td>2018</td>\n",
       "      <td>31</td>\n",
       "      <td>1.00</td>\n",
       "      <td>4</td>\n",
       "      <td>0</td>\n",
       "      <td>2</td>\n",
       "      <td>1</td>\n",
       "      <td>-0.71</td>\n",
       "      <td>0.71</td>\n",
       "      <td>-0.50</td>\n",
       "      <td>0.87</td>\n",
       "    </tr>\n",
       "    <tr>\n",
       "      <th>94990</th>\n",
       "      <td>94991</td>\n",
       "      <td>2018-12-31 22:00:00</td>\n",
       "      <td>2018</td>\n",
       "      <td>31</td>\n",
       "      <td>1.00</td>\n",
       "      <td>4</td>\n",
       "      <td>0</td>\n",
       "      <td>2</td>\n",
       "      <td>1</td>\n",
       "      <td>-0.50</td>\n",
       "      <td>0.87</td>\n",
       "      <td>-0.50</td>\n",
       "      <td>0.87</td>\n",
       "    </tr>\n",
       "    <tr>\n",
       "      <th>94991</th>\n",
       "      <td>94992</td>\n",
       "      <td>2018-12-31 23:00:00</td>\n",
       "      <td>2018</td>\n",
       "      <td>31</td>\n",
       "      <td>1.00</td>\n",
       "      <td>4</td>\n",
       "      <td>0</td>\n",
       "      <td>2</td>\n",
       "      <td>1</td>\n",
       "      <td>-0.26</td>\n",
       "      <td>0.97</td>\n",
       "      <td>-0.50</td>\n",
       "      <td>0.87</td>\n",
       "    </tr>\n",
       "  </tbody>\n",
       "</table>\n",
       "<p>93092 rows × 13 columns</p>\n",
       "</div>"
      ],
      "text/plain": [
       "       row_id             datetime  year  day  day_of_week  is_quarter_date  \\\n",
       "0           1  2008-03-01 00:00:00  2008    1         0.28                1   \n",
       "1           2  2008-03-01 01:00:00  2008    1         0.28                1   \n",
       "2           3  2008-03-01 02:00:00  2008    1         0.28                1   \n",
       "3           4  2008-03-01 03:00:00  2008    1         0.28                1   \n",
       "4           5  2008-03-01 04:00:00  2008    1         0.28                1   \n",
       "...       ...                  ...   ...  ...          ...              ...   \n",
       "94987   94988  2018-12-31 19:00:00  2018   31         1.00                4   \n",
       "94988   94989  2018-12-31 20:00:00  2018   31         1.00                4   \n",
       "94989   94990  2018-12-31 21:00:00  2018   31         1.00                4   \n",
       "94990   94991  2018-12-31 22:00:00  2018   31         1.00                4   \n",
       "94991   94992  2018-12-31 23:00:00  2018   31         1.00                4   \n",
       "\n",
       "       is_weekend  Type_of_Day  Season  hour_sin  hour_cos  month_sin  \\\n",
       "0               1            2       2      0.00      1.00       0.87   \n",
       "1               1            5       2      0.26      0.97       0.87   \n",
       "2               1            5       2      0.50      0.87       0.87   \n",
       "3               1            5       2      0.71      0.71       0.87   \n",
       "4               1            4       2      0.87      0.50       0.87   \n",
       "...           ...          ...     ...       ...       ...        ...   \n",
       "94987           0            3       1     -0.97      0.26      -0.50   \n",
       "94988           0            3       1     -0.87      0.50      -0.50   \n",
       "94989           0            2       1     -0.71      0.71      -0.50   \n",
       "94990           0            2       1     -0.50      0.87      -0.50   \n",
       "94991           0            2       1     -0.26      0.97      -0.50   \n",
       "\n",
       "       month_cos  \n",
       "0           0.50  \n",
       "1           0.50  \n",
       "2           0.50  \n",
       "3           0.50  \n",
       "4           0.50  \n",
       "...          ...  \n",
       "94987       0.87  \n",
       "94988       0.87  \n",
       "94989       0.87  \n",
       "94990       0.87  \n",
       "94991       0.87  \n",
       "\n",
       "[93092 rows x 13 columns]"
      ]
     },
     "execution_count": 39,
     "metadata": {},
     "output_type": "execute_result"
    }
   ],
   "source": [
    "X.round(decimals=2)"
   ]
  },
  {
   "cell_type": "code",
   "execution_count": 40,
   "id": "9842ba55",
   "metadata": {},
   "outputs": [
    {
     "data": {
      "text/html": [
       "<div>\n",
       "<style scoped>\n",
       "    .dataframe tbody tr th:only-of-type {\n",
       "        vertical-align: middle;\n",
       "    }\n",
       "\n",
       "    .dataframe tbody tr th {\n",
       "        vertical-align: top;\n",
       "    }\n",
       "\n",
       "    .dataframe thead th {\n",
       "        text-align: right;\n",
       "    }\n",
       "</style>\n",
       "<table border=\"1\" class=\"dataframe\">\n",
       "  <thead>\n",
       "    <tr style=\"text-align: right;\">\n",
       "      <th></th>\n",
       "      <th>row_id</th>\n",
       "      <th>datetime</th>\n",
       "      <th>year</th>\n",
       "      <th>day</th>\n",
       "      <th>day_of_week</th>\n",
       "      <th>is_quarter_date</th>\n",
       "      <th>is_weekend</th>\n",
       "      <th>Type_of_Day</th>\n",
       "      <th>Season</th>\n",
       "      <th>hour_sin</th>\n",
       "      <th>hour_cos</th>\n",
       "      <th>month_sin</th>\n",
       "      <th>month_cos</th>\n",
       "    </tr>\n",
       "  </thead>\n",
       "  <tbody>\n",
       "    <tr>\n",
       "      <th>0</th>\n",
       "      <td>94993</td>\n",
       "      <td>2019-01-01 00:00:00</td>\n",
       "      <td>2019</td>\n",
       "      <td>1</td>\n",
       "      <td>0.54</td>\n",
       "      <td>1</td>\n",
       "      <td>0</td>\n",
       "      <td>2</td>\n",
       "      <td>1</td>\n",
       "      <td>0.00</td>\n",
       "      <td>1.00</td>\n",
       "      <td>0.0</td>\n",
       "      <td>1.00</td>\n",
       "    </tr>\n",
       "    <tr>\n",
       "      <th>1</th>\n",
       "      <td>94994</td>\n",
       "      <td>2019-01-01 01:00:00</td>\n",
       "      <td>2019</td>\n",
       "      <td>1</td>\n",
       "      <td>0.54</td>\n",
       "      <td>1</td>\n",
       "      <td>0</td>\n",
       "      <td>5</td>\n",
       "      <td>1</td>\n",
       "      <td>0.26</td>\n",
       "      <td>0.97</td>\n",
       "      <td>0.0</td>\n",
       "      <td>1.00</td>\n",
       "    </tr>\n",
       "    <tr>\n",
       "      <th>2</th>\n",
       "      <td>94995</td>\n",
       "      <td>2019-01-01 02:00:00</td>\n",
       "      <td>2019</td>\n",
       "      <td>1</td>\n",
       "      <td>0.54</td>\n",
       "      <td>1</td>\n",
       "      <td>0</td>\n",
       "      <td>5</td>\n",
       "      <td>1</td>\n",
       "      <td>0.50</td>\n",
       "      <td>0.87</td>\n",
       "      <td>0.0</td>\n",
       "      <td>1.00</td>\n",
       "    </tr>\n",
       "    <tr>\n",
       "      <th>3</th>\n",
       "      <td>94996</td>\n",
       "      <td>2019-01-01 03:00:00</td>\n",
       "      <td>2019</td>\n",
       "      <td>1</td>\n",
       "      <td>0.54</td>\n",
       "      <td>1</td>\n",
       "      <td>0</td>\n",
       "      <td>5</td>\n",
       "      <td>1</td>\n",
       "      <td>0.71</td>\n",
       "      <td>0.71</td>\n",
       "      <td>0.0</td>\n",
       "      <td>1.00</td>\n",
       "    </tr>\n",
       "    <tr>\n",
       "      <th>4</th>\n",
       "      <td>94997</td>\n",
       "      <td>2019-01-01 04:00:00</td>\n",
       "      <td>2019</td>\n",
       "      <td>1</td>\n",
       "      <td>0.54</td>\n",
       "      <td>1</td>\n",
       "      <td>0</td>\n",
       "      <td>4</td>\n",
       "      <td>1</td>\n",
       "      <td>0.87</td>\n",
       "      <td>0.50</td>\n",
       "      <td>0.0</td>\n",
       "      <td>1.00</td>\n",
       "    </tr>\n",
       "    <tr>\n",
       "      <th>...</th>\n",
       "      <td>...</td>\n",
       "      <td>...</td>\n",
       "      <td>...</td>\n",
       "      <td>...</td>\n",
       "      <td>...</td>\n",
       "      <td>...</td>\n",
       "      <td>...</td>\n",
       "      <td>...</td>\n",
       "      <td>...</td>\n",
       "      <td>...</td>\n",
       "      <td>...</td>\n",
       "      <td>...</td>\n",
       "      <td>...</td>\n",
       "    </tr>\n",
       "    <tr>\n",
       "      <th>26299</th>\n",
       "      <td>121292</td>\n",
       "      <td>2021-12-31 19:00:00</td>\n",
       "      <td>2021</td>\n",
       "      <td>31</td>\n",
       "      <td>-0.65</td>\n",
       "      <td>4</td>\n",
       "      <td>0</td>\n",
       "      <td>3</td>\n",
       "      <td>1</td>\n",
       "      <td>-0.97</td>\n",
       "      <td>0.26</td>\n",
       "      <td>-0.5</td>\n",
       "      <td>0.87</td>\n",
       "    </tr>\n",
       "    <tr>\n",
       "      <th>26300</th>\n",
       "      <td>121293</td>\n",
       "      <td>2021-12-31 20:00:00</td>\n",
       "      <td>2021</td>\n",
       "      <td>31</td>\n",
       "      <td>-0.65</td>\n",
       "      <td>4</td>\n",
       "      <td>0</td>\n",
       "      <td>3</td>\n",
       "      <td>1</td>\n",
       "      <td>-0.87</td>\n",
       "      <td>0.50</td>\n",
       "      <td>-0.5</td>\n",
       "      <td>0.87</td>\n",
       "    </tr>\n",
       "    <tr>\n",
       "      <th>26301</th>\n",
       "      <td>121294</td>\n",
       "      <td>2021-12-31 21:00:00</td>\n",
       "      <td>2021</td>\n",
       "      <td>31</td>\n",
       "      <td>-0.65</td>\n",
       "      <td>4</td>\n",
       "      <td>0</td>\n",
       "      <td>2</td>\n",
       "      <td>1</td>\n",
       "      <td>-0.71</td>\n",
       "      <td>0.71</td>\n",
       "      <td>-0.5</td>\n",
       "      <td>0.87</td>\n",
       "    </tr>\n",
       "    <tr>\n",
       "      <th>26302</th>\n",
       "      <td>121295</td>\n",
       "      <td>2021-12-31 22:00:00</td>\n",
       "      <td>2021</td>\n",
       "      <td>31</td>\n",
       "      <td>-0.65</td>\n",
       "      <td>4</td>\n",
       "      <td>0</td>\n",
       "      <td>2</td>\n",
       "      <td>1</td>\n",
       "      <td>-0.50</td>\n",
       "      <td>0.87</td>\n",
       "      <td>-0.5</td>\n",
       "      <td>0.87</td>\n",
       "    </tr>\n",
       "    <tr>\n",
       "      <th>26303</th>\n",
       "      <td>121296</td>\n",
       "      <td>2021-12-31 23:00:00</td>\n",
       "      <td>2021</td>\n",
       "      <td>31</td>\n",
       "      <td>-0.65</td>\n",
       "      <td>4</td>\n",
       "      <td>0</td>\n",
       "      <td>2</td>\n",
       "      <td>1</td>\n",
       "      <td>-0.26</td>\n",
       "      <td>0.97</td>\n",
       "      <td>-0.5</td>\n",
       "      <td>0.87</td>\n",
       "    </tr>\n",
       "  </tbody>\n",
       "</table>\n",
       "<p>26304 rows × 13 columns</p>\n",
       "</div>"
      ],
      "text/plain": [
       "       row_id             datetime  year  day  day_of_week  is_quarter_date  \\\n",
       "0       94993  2019-01-01 00:00:00  2019    1         0.54                1   \n",
       "1       94994  2019-01-01 01:00:00  2019    1         0.54                1   \n",
       "2       94995  2019-01-01 02:00:00  2019    1         0.54                1   \n",
       "3       94996  2019-01-01 03:00:00  2019    1         0.54                1   \n",
       "4       94997  2019-01-01 04:00:00  2019    1         0.54                1   \n",
       "...       ...                  ...   ...  ...          ...              ...   \n",
       "26299  121292  2021-12-31 19:00:00  2021   31        -0.65                4   \n",
       "26300  121293  2021-12-31 20:00:00  2021   31        -0.65                4   \n",
       "26301  121294  2021-12-31 21:00:00  2021   31        -0.65                4   \n",
       "26302  121295  2021-12-31 22:00:00  2021   31        -0.65                4   \n",
       "26303  121296  2021-12-31 23:00:00  2021   31        -0.65                4   \n",
       "\n",
       "       is_weekend  Type_of_Day  Season  hour_sin  hour_cos  month_sin  \\\n",
       "0               0            2       1      0.00      1.00        0.0   \n",
       "1               0            5       1      0.26      0.97        0.0   \n",
       "2               0            5       1      0.50      0.87        0.0   \n",
       "3               0            5       1      0.71      0.71        0.0   \n",
       "4               0            4       1      0.87      0.50        0.0   \n",
       "...           ...          ...     ...       ...       ...        ...   \n",
       "26299           0            3       1     -0.97      0.26       -0.5   \n",
       "26300           0            3       1     -0.87      0.50       -0.5   \n",
       "26301           0            2       1     -0.71      0.71       -0.5   \n",
       "26302           0            2       1     -0.50      0.87       -0.5   \n",
       "26303           0            2       1     -0.26      0.97       -0.5   \n",
       "\n",
       "       month_cos  \n",
       "0           1.00  \n",
       "1           1.00  \n",
       "2           1.00  \n",
       "3           1.00  \n",
       "4           1.00  \n",
       "...          ...  \n",
       "26299       0.87  \n",
       "26300       0.87  \n",
       "26301       0.87  \n",
       "26302       0.87  \n",
       "26303       0.87  \n",
       "\n",
       "[26304 rows x 13 columns]"
      ]
     },
     "execution_count": 40,
     "metadata": {},
     "output_type": "execute_result"
    }
   ],
   "source": [
    "test.round(decimals = 2)"
   ]
  },
  {
   "cell_type": "code",
   "execution_count": 41,
   "id": "646fe1d6",
   "metadata": {},
   "outputs": [],
   "source": [
    "vif_info = pd.DataFrame()"
   ]
  },
  {
   "cell_type": "code",
   "execution_count": 42,
   "id": "013e9389",
   "metadata": {},
   "outputs": [],
   "source": [
    "X = X.drop('datetime' ,axis= 1)"
   ]
  },
  {
   "cell_type": "code",
   "execution_count": 43,
   "id": "5e645647",
   "metadata": {},
   "outputs": [
    {
     "data": {
      "text/plain": [
       "row_id               int64\n",
       "year                 int64\n",
       "day                  int64\n",
       "day_of_week        float64\n",
       "is_quarter_date      int64\n",
       "is_weekend           int64\n",
       "Type_of_Day          int64\n",
       "Season               int64\n",
       "hour_sin           float64\n",
       "hour_cos           float64\n",
       "month_sin          float64\n",
       "month_cos          float64\n",
       "dtype: object"
      ]
     },
     "execution_count": 43,
     "metadata": {},
     "output_type": "execute_result"
    }
   ],
   "source": [
    "X.dtypes"
   ]
  },
  {
   "cell_type": "code",
   "execution_count": 44,
   "id": "c6c75bd6",
   "metadata": {},
   "outputs": [
    {
     "data": {
      "text/html": [
       "<div>\n",
       "<style scoped>\n",
       "    .dataframe tbody tr th:only-of-type {\n",
       "        vertical-align: middle;\n",
       "    }\n",
       "\n",
       "    .dataframe tbody tr th {\n",
       "        vertical-align: top;\n",
       "    }\n",
       "\n",
       "    .dataframe thead th {\n",
       "        text-align: right;\n",
       "    }\n",
       "</style>\n",
       "<table border=\"1\" class=\"dataframe\">\n",
       "  <thead>\n",
       "    <tr style=\"text-align: right;\">\n",
       "      <th></th>\n",
       "      <th>VIF</th>\n",
       "      <th>Columns</th>\n",
       "    </tr>\n",
       "  </thead>\n",
       "  <tbody>\n",
       "    <tr>\n",
       "      <th>1</th>\n",
       "      <td>33.123057</td>\n",
       "      <td>year</td>\n",
       "    </tr>\n",
       "    <tr>\n",
       "      <th>4</th>\n",
       "      <td>18.452855</td>\n",
       "      <td>is_quarter_date</td>\n",
       "    </tr>\n",
       "    <tr>\n",
       "      <th>6</th>\n",
       "      <td>8.638707</td>\n",
       "      <td>Type_of_Day</td>\n",
       "    </tr>\n",
       "    <tr>\n",
       "      <th>7</th>\n",
       "      <td>8.311279</td>\n",
       "      <td>Season</td>\n",
       "    </tr>\n",
       "    <tr>\n",
       "      <th>2</th>\n",
       "      <td>4.193170</td>\n",
       "      <td>day</td>\n",
       "    </tr>\n",
       "    <tr>\n",
       "      <th>0</th>\n",
       "      <td>4.036494</td>\n",
       "      <td>row_id</td>\n",
       "    </tr>\n",
       "    <tr>\n",
       "      <th>10</th>\n",
       "      <td>3.849562</td>\n",
       "      <td>month_sin</td>\n",
       "    </tr>\n",
       "    <tr>\n",
       "      <th>9</th>\n",
       "      <td>2.707700</td>\n",
       "      <td>hour_cos</td>\n",
       "    </tr>\n",
       "    <tr>\n",
       "      <th>11</th>\n",
       "      <td>2.075886</td>\n",
       "      <td>month_cos</td>\n",
       "    </tr>\n",
       "    <tr>\n",
       "      <th>5</th>\n",
       "      <td>1.746682</td>\n",
       "      <td>is_weekend</td>\n",
       "    </tr>\n",
       "    <tr>\n",
       "      <th>8</th>\n",
       "      <td>1.698022</td>\n",
       "      <td>hour_sin</td>\n",
       "    </tr>\n",
       "    <tr>\n",
       "      <th>3</th>\n",
       "      <td>1.271607</td>\n",
       "      <td>day_of_week</td>\n",
       "    </tr>\n",
       "  </tbody>\n",
       "</table>\n",
       "</div>"
      ],
      "text/plain": [
       "          VIF          Columns\n",
       "1   33.123057             year\n",
       "4   18.452855  is_quarter_date\n",
       "6    8.638707      Type_of_Day\n",
       "7    8.311279           Season\n",
       "2    4.193170              day\n",
       "0    4.036494           row_id\n",
       "10   3.849562        month_sin\n",
       "9    2.707700         hour_cos\n",
       "11   2.075886        month_cos\n",
       "5    1.746682       is_weekend\n",
       "8    1.698022         hour_sin\n",
       "3    1.271607      day_of_week"
      ]
     },
     "execution_count": 44,
     "metadata": {},
     "output_type": "execute_result"
    }
   ],
   "source": [
    "vif_info['VIF'] = [variance_inflation_factor(X.values, i) for i in range(X.shape[1])]\n",
    "vif_info['Columns'] = X.columns\n",
    "vif_info.sort_values('VIF', ascending=False)"
   ]
  },
  {
   "cell_type": "code",
   "execution_count": 45,
   "id": "9925fc3d",
   "metadata": {},
   "outputs": [
    {
     "data": {
      "text/html": [
       "<div>\n",
       "<style scoped>\n",
       "    .dataframe tbody tr th:only-of-type {\n",
       "        vertical-align: middle;\n",
       "    }\n",
       "\n",
       "    .dataframe tbody tr th {\n",
       "        vertical-align: top;\n",
       "    }\n",
       "\n",
       "    .dataframe thead th {\n",
       "        text-align: right;\n",
       "    }\n",
       "</style>\n",
       "<table border=\"1\" class=\"dataframe\">\n",
       "  <thead>\n",
       "    <tr style=\"text-align: right;\">\n",
       "      <th></th>\n",
       "      <th>VIF</th>\n",
       "      <th>Columns</th>\n",
       "    </tr>\n",
       "  </thead>\n",
       "  <tbody>\n",
       "    <tr>\n",
       "      <th>0</th>\n",
       "      <td>4.04</td>\n",
       "      <td>row_id</td>\n",
       "    </tr>\n",
       "    <tr>\n",
       "      <th>1</th>\n",
       "      <td>33.12</td>\n",
       "      <td>year</td>\n",
       "    </tr>\n",
       "    <tr>\n",
       "      <th>2</th>\n",
       "      <td>4.19</td>\n",
       "      <td>day</td>\n",
       "    </tr>\n",
       "    <tr>\n",
       "      <th>3</th>\n",
       "      <td>1.27</td>\n",
       "      <td>day_of_week</td>\n",
       "    </tr>\n",
       "    <tr>\n",
       "      <th>4</th>\n",
       "      <td>18.45</td>\n",
       "      <td>is_quarter_date</td>\n",
       "    </tr>\n",
       "    <tr>\n",
       "      <th>5</th>\n",
       "      <td>1.75</td>\n",
       "      <td>is_weekend</td>\n",
       "    </tr>\n",
       "    <tr>\n",
       "      <th>6</th>\n",
       "      <td>8.64</td>\n",
       "      <td>Type_of_Day</td>\n",
       "    </tr>\n",
       "    <tr>\n",
       "      <th>7</th>\n",
       "      <td>8.31</td>\n",
       "      <td>Season</td>\n",
       "    </tr>\n",
       "    <tr>\n",
       "      <th>8</th>\n",
       "      <td>1.70</td>\n",
       "      <td>hour_sin</td>\n",
       "    </tr>\n",
       "    <tr>\n",
       "      <th>9</th>\n",
       "      <td>2.71</td>\n",
       "      <td>hour_cos</td>\n",
       "    </tr>\n",
       "    <tr>\n",
       "      <th>10</th>\n",
       "      <td>3.85</td>\n",
       "      <td>month_sin</td>\n",
       "    </tr>\n",
       "    <tr>\n",
       "      <th>11</th>\n",
       "      <td>2.08</td>\n",
       "      <td>month_cos</td>\n",
       "    </tr>\n",
       "  </tbody>\n",
       "</table>\n",
       "</div>"
      ],
      "text/plain": [
       "      VIF          Columns\n",
       "0    4.04           row_id\n",
       "1   33.12             year\n",
       "2    4.19              day\n",
       "3    1.27      day_of_week\n",
       "4   18.45  is_quarter_date\n",
       "5    1.75       is_weekend\n",
       "6    8.64      Type_of_Day\n",
       "7    8.31           Season\n",
       "8    1.70         hour_sin\n",
       "9    2.71         hour_cos\n",
       "10   3.85        month_sin\n",
       "11   2.08        month_cos"
      ]
     },
     "execution_count": 45,
     "metadata": {},
     "output_type": "execute_result"
    }
   ],
   "source": [
    "vif_info.round(decimals = 2)"
   ]
  },
  {
   "cell_type": "code",
   "execution_count": 46,
   "id": "3a6f7ddd",
   "metadata": {},
   "outputs": [
    {
     "name": "stdout",
     "output_type": "stream",
     "text": [
      "       row_id             datetime  year  day  day_of_week  is_quarter_date  \\\n",
      "0       94993  2019-01-01 00:00:00  2019    1     0.540302                1   \n",
      "1       94994  2019-01-01 01:00:00  2019    1     0.540302                1   \n",
      "2       94995  2019-01-01 02:00:00  2019    1     0.540302                1   \n",
      "3       94996  2019-01-01 03:00:00  2019    1     0.540302                1   \n",
      "4       94997  2019-01-01 04:00:00  2019    1     0.540302                1   \n",
      "...       ...                  ...   ...  ...          ...              ...   \n",
      "26299  121292  2021-12-31 19:00:00  2021   31    -0.653644                4   \n",
      "26300  121293  2021-12-31 20:00:00  2021   31    -0.653644                4   \n",
      "26301  121294  2021-12-31 21:00:00  2021   31    -0.653644                4   \n",
      "26302  121295  2021-12-31 22:00:00  2021   31    -0.653644                4   \n",
      "26303  121296  2021-12-31 23:00:00  2021   31    -0.653644                4   \n",
      "\n",
      "       is_weekend  Type_of_Day  Season  hour_sin  hour_cos  month_sin  \\\n",
      "0               0            2       1  0.000000  1.000000        0.0   \n",
      "1               0            5       1  0.258819  0.965926        0.0   \n",
      "2               0            5       1  0.500000  0.866025        0.0   \n",
      "3               0            5       1  0.707107  0.707107        0.0   \n",
      "4               0            4       1  0.866025  0.500000        0.0   \n",
      "...           ...          ...     ...       ...       ...        ...   \n",
      "26299           0            3       1 -0.965926  0.258819       -0.5   \n",
      "26300           0            3       1 -0.866025  0.500000       -0.5   \n",
      "26301           0            2       1 -0.707107  0.707107       -0.5   \n",
      "26302           0            2       1 -0.500000  0.866025       -0.5   \n",
      "26303           0            2       1 -0.258819  0.965926       -0.5   \n",
      "\n",
      "       month_cos  \n",
      "0       1.000000  \n",
      "1       1.000000  \n",
      "2       1.000000  \n",
      "3       1.000000  \n",
      "4       1.000000  \n",
      "...          ...  \n",
      "26299   0.866025  \n",
      "26300   0.866025  \n",
      "26301   0.866025  \n",
      "26302   0.866025  \n",
      "26303   0.866025  \n",
      "\n",
      "[26304 rows x 13 columns]\n"
     ]
    }
   ],
   "source": [
    "#test = test.drop('datetime' ,axis= 1)\n",
    "test.dtypes\n",
    "print(test)"
   ]
  },
  {
   "cell_type": "code",
   "execution_count": 47,
   "id": "fb1a033e",
   "metadata": {},
   "outputs": [],
   "source": [
    "X.drop(['year', 'is_quarter_date'], axis=1, inplace=True)"
   ]
  },
  {
   "cell_type": "code",
   "execution_count": 48,
   "id": "a630e71e",
   "metadata": {},
   "outputs": [],
   "source": [
    "test.drop(['datetime', 'year', 'is_quarter_date'], axis=1, inplace=True)"
   ]
  },
  {
   "cell_type": "code",
   "execution_count": 49,
   "id": "c326ac16",
   "metadata": {},
   "outputs": [
    {
     "data": {
      "text/plain": [
       "0"
      ]
     },
     "execution_count": 49,
     "metadata": {},
     "output_type": "execute_result"
    }
   ],
   "source": [
    "y.isnull().sum()"
   ]
  },
  {
   "cell_type": "code",
   "execution_count": 50,
   "id": "a4663c75",
   "metadata": {},
   "outputs": [
    {
     "name": "stdout",
     "output_type": "stream",
     "text": [
      "       row_id  day  day_of_week  is_weekend  Type_of_Day  Season  hour_sin  \\\n",
      "0           1    1     0.283662           1            2       2  0.000000   \n",
      "1           2    1     0.283662           1            5       2  0.258819   \n",
      "2           3    1     0.283662           1            5       2  0.500000   \n",
      "3           4    1     0.283662           1            5       2  0.707107   \n",
      "4           5    1     0.283662           1            4       2  0.866025   \n",
      "...       ...  ...          ...         ...          ...     ...       ...   \n",
      "94987   94988   31     1.000000           0            3       1 -0.965926   \n",
      "94988   94989   31     1.000000           0            3       1 -0.866025   \n",
      "94989   94990   31     1.000000           0            2       1 -0.707107   \n",
      "94990   94991   31     1.000000           0            2       1 -0.500000   \n",
      "94991   94992   31     1.000000           0            2       1 -0.258819   \n",
      "\n",
      "       hour_cos  month_sin  month_cos  \n",
      "0      1.000000   0.866025   0.500000  \n",
      "1      0.965926   0.866025   0.500000  \n",
      "2      0.866025   0.866025   0.500000  \n",
      "3      0.707107   0.866025   0.500000  \n",
      "4      0.500000   0.866025   0.500000  \n",
      "...         ...        ...        ...  \n",
      "94987  0.258819  -0.500000   0.866025  \n",
      "94988  0.500000  -0.500000   0.866025  \n",
      "94989  0.707107  -0.500000   0.866025  \n",
      "94990  0.866025  -0.500000   0.866025  \n",
      "94991  0.965926  -0.500000   0.866025  \n",
      "\n",
      "[93092 rows x 10 columns]\n",
      "          VIF          Columns\n",
      "0    4.036494           row_id\n",
      "1   33.123057             year\n",
      "2    4.193170              day\n",
      "3    1.271607      day_of_week\n",
      "4   18.452855  is_quarter_date\n",
      "5    1.746682       is_weekend\n",
      "6    8.638707      Type_of_Day\n",
      "7    8.311279           Season\n",
      "8    1.698022         hour_sin\n",
      "9    2.707700         hour_cos\n",
      "10   3.849562        month_sin\n",
      "11   2.075886        month_cos\n"
     ]
    }
   ],
   "source": [
    "print(X)\n",
    "print(vif_info)"
   ]
  },
  {
   "cell_type": "code",
   "execution_count": 51,
   "id": "e90a7450",
   "metadata": {},
   "outputs": [
    {
     "data": {
      "text/html": [
       "<div>\n",
       "<style scoped>\n",
       "    .dataframe tbody tr th:only-of-type {\n",
       "        vertical-align: middle;\n",
       "    }\n",
       "\n",
       "    .dataframe tbody tr th {\n",
       "        vertical-align: top;\n",
       "    }\n",
       "\n",
       "    .dataframe thead th {\n",
       "        text-align: right;\n",
       "    }\n",
       "</style>\n",
       "<table border=\"1\" class=\"dataframe\">\n",
       "  <thead>\n",
       "    <tr style=\"text-align: right;\">\n",
       "      <th></th>\n",
       "      <th>VIF</th>\n",
       "      <th>Columns</th>\n",
       "    </tr>\n",
       "  </thead>\n",
       "  <tbody>\n",
       "    <tr>\n",
       "      <th>4</th>\n",
       "      <td>6.115666</td>\n",
       "      <td>Type_of_Day</td>\n",
       "    </tr>\n",
       "    <tr>\n",
       "      <th>5</th>\n",
       "      <td>5.938257</td>\n",
       "      <td>Season</td>\n",
       "    </tr>\n",
       "    <tr>\n",
       "      <th>1</th>\n",
       "      <td>3.484628</td>\n",
       "      <td>day</td>\n",
       "    </tr>\n",
       "    <tr>\n",
       "      <th>0</th>\n",
       "      <td>3.357730</td>\n",
       "      <td>row_id</td>\n",
       "    </tr>\n",
       "    <tr>\n",
       "      <th>7</th>\n",
       "      <td>2.208545</td>\n",
       "      <td>hour_cos</td>\n",
       "    </tr>\n",
       "    <tr>\n",
       "      <th>8</th>\n",
       "      <td>1.726466</td>\n",
       "      <td>month_sin</td>\n",
       "    </tr>\n",
       "    <tr>\n",
       "      <th>3</th>\n",
       "      <td>1.707404</td>\n",
       "      <td>is_weekend</td>\n",
       "    </tr>\n",
       "    <tr>\n",
       "      <th>9</th>\n",
       "      <td>1.699370</td>\n",
       "      <td>month_cos</td>\n",
       "    </tr>\n",
       "    <tr>\n",
       "      <th>6</th>\n",
       "      <td>1.494291</td>\n",
       "      <td>hour_sin</td>\n",
       "    </tr>\n",
       "    <tr>\n",
       "      <th>2</th>\n",
       "      <td>1.269792</td>\n",
       "      <td>day_of_week</td>\n",
       "    </tr>\n",
       "  </tbody>\n",
       "</table>\n",
       "</div>"
      ],
      "text/plain": [
       "        VIF      Columns\n",
       "4  6.115666  Type_of_Day\n",
       "5  5.938257       Season\n",
       "1  3.484628          day\n",
       "0  3.357730       row_id\n",
       "7  2.208545     hour_cos\n",
       "8  1.726466    month_sin\n",
       "3  1.707404   is_weekend\n",
       "9  1.699370    month_cos\n",
       "6  1.494291     hour_sin\n",
       "2  1.269792  day_of_week"
      ]
     },
     "execution_count": 51,
     "metadata": {},
     "output_type": "execute_result"
    }
   ],
   "source": [
    "vif_info_afterdrop = pd.DataFrame()\n",
    "vif_info_afterdrop['VIF'] = [variance_inflation_factor(X.values, i) for i in range(X.shape[1])]\n",
    "vif_info_afterdrop['Columns'] = X.columns\n",
    "vif_info_afterdrop.sort_values('VIF', ascending=False)"
   ]
  },
  {
   "cell_type": "code",
   "execution_count": 52,
   "id": "bdd1c636",
   "metadata": {},
   "outputs": [],
   "source": [
    "from sklearn.model_selection import train_test_split\n",
    "from sklearn.preprocessing import StandardScaler\n",
    "from sklearn.preprocessing import LabelEncoder\n",
    "\n",
    "from sklearn.metrics import mean_squared_error as mse\n",
    "from sklearn.metrics import r2_score as r2\n",
    "\n",
    "from sklearn.linear_model import Ridge\n",
    "from sklearn.neural_network import MLPRegressor\n",
    "from sklearn.ensemble import RandomForestRegressor\n",
    "from catboost import CatBoostRegressor\n",
    "from xgboost import XGBRegressor, XGBRFRegressor\n",
    "from sklearn.linear_model import Lasso, LinearRegression\n",
    "from lightgbm import LGBMRegressor"
   ]
  },
  {
   "cell_type": "code",
   "execution_count": 53,
   "id": "32545b75",
   "metadata": {},
   "outputs": [
    {
     "data": {
      "text/plain": [
       "array([[ 1.0000e+00,  1.0000e+00,  2.8000e-01, ...,  1.0000e+00,\n",
       "         8.7000e-01,  5.0000e-01],\n",
       "       [ 2.0000e+00,  1.0000e+00,  2.8000e-01, ...,  9.7000e-01,\n",
       "         8.7000e-01,  5.0000e-01],\n",
       "       [ 3.0000e+00,  1.0000e+00,  2.8000e-01, ...,  8.7000e-01,\n",
       "         8.7000e-01,  5.0000e-01],\n",
       "       ...,\n",
       "       [ 9.4990e+04,  3.1000e+01,  1.0000e+00, ...,  7.1000e-01,\n",
       "        -5.0000e-01,  8.7000e-01],\n",
       "       [ 9.4991e+04,  3.1000e+01,  1.0000e+00, ...,  8.7000e-01,\n",
       "        -5.0000e-01,  8.7000e-01],\n",
       "       [ 9.4992e+04,  3.1000e+01,  1.0000e+00, ...,  9.7000e-01,\n",
       "        -5.0000e-01,  8.7000e-01]])"
      ]
     },
     "execution_count": 53,
     "metadata": {},
     "output_type": "execute_result"
    }
   ],
   "source": [
    "X.values.round(decimals = 2)\n"
   ]
  },
  {
   "cell_type": "code",
   "execution_count": 54,
   "id": "82b5a353",
   "metadata": {},
   "outputs": [
    {
     "data": {
      "text/plain": [
       "247.45067850651537"
      ]
     },
     "execution_count": 54,
     "metadata": {},
     "output_type": "execute_result"
    }
   ],
   "source": [
    "z = (train['energy'].count() - train['energy'].mean()) / train['energy'].std()\n",
    "z"
   ]
  },
  {
   "cell_type": "code",
   "execution_count": 55,
   "id": "4e8d4209",
   "metadata": {},
   "outputs": [
    {
     "data": {
      "text/plain": [
       "0        1012.53\n",
       "1         848.09\n",
       "2         808.80\n",
       "3         787.29\n",
       "4         778.88\n",
       "          ...   \n",
       "94987    2281.00\n",
       "94988    2214.43\n",
       "94989    2118.54\n",
       "94990    2095.49\n",
       "94991    1932.77\n",
       "Name: energy, Length: 93092, dtype: float64"
      ]
     },
     "execution_count": 55,
     "metadata": {},
     "output_type": "execute_result"
    }
   ],
   "source": [
    "y = y - z\n",
    "y.round(decimals=2)"
   ]
  },
  {
   "cell_type": "code",
   "execution_count": 56,
   "id": "3bae2c15",
   "metadata": {},
   "outputs": [],
   "source": [
    "le = LabelEncoder()\n",
    "encoded_y = le.fit_transform(y)"
   ]
  },
  {
   "cell_type": "code",
   "execution_count": 57,
   "id": "3697d84c",
   "metadata": {},
   "outputs": [
    {
     "data": {
      "text/plain": [
       "array([ 7067,  1762,  1038, ..., 57011, 56629, 53053], dtype=int64)"
      ]
     },
     "execution_count": 57,
     "metadata": {},
     "output_type": "execute_result"
    }
   ],
   "source": [
    "encoded_y"
   ]
  },
  {
   "cell_type": "code",
   "execution_count": 58,
   "id": "0e89da76",
   "metadata": {},
   "outputs": [],
   "source": [
    "X_train, X_test, y_train, y_test = train_test_split(X.values, y, train_size=0.7, random_state=21)\n"
   ]
  },
  {
   "cell_type": "code",
   "execution_count": 59,
   "id": "d5e60e30",
   "metadata": {},
   "outputs": [],
   "source": [
    "X_test = X_test.round(decimals = 2)"
   ]
  },
  {
   "cell_type": "code",
   "execution_count": 60,
   "id": "2936915a",
   "metadata": {},
   "outputs": [],
   "source": [
    "X_train = X_train.round(decimals = 2)"
   ]
  },
  {
   "cell_type": "code",
   "execution_count": 61,
   "id": "042a21e2",
   "metadata": {},
   "outputs": [],
   "source": [
    "y_test = y_test.round(decimals=2)"
   ]
  },
  {
   "cell_type": "code",
   "execution_count": 62,
   "id": "434a920f",
   "metadata": {},
   "outputs": [],
   "source": [
    "y_train = y_train.round(decimals =2)"
   ]
  },
  {
   "cell_type": "code",
   "execution_count": 63,
   "id": "0a941f3b",
   "metadata": {},
   "outputs": [
    {
     "name": "stdout",
     "output_type": "stream",
     "text": [
      "Linear Regression(Ridge) trained.\n",
      "          Neural Network trained.\n",
      "           Random Forest trained.\n",
      "                Catboost trained.\n",
      "       XGBoost Regressor trained.\n",
      "    XGBoost RF Regressor trained.\n",
      "Linear Regression(lasso) trained.\n",
      "       Linear Regression trained.\n",
      " Light Gradient Boosting trained.\n"
     ]
    }
   ],
   "source": [
    "models = {\n",
    "    'Linear Regression(Ridge)' : Ridge(),\n",
    "    '          Neural Network' : MLPRegressor(),\n",
    "    '           Random Forest' : RandomForestRegressor(),\n",
    "    '                Catboost' : CatBoostRegressor(verbose=0),\n",
    "    '       XGBoost Regressor' : XGBRegressor(),\n",
    "    '    XGBoost RF Regressor' : XGBRFRegressor(),\n",
    "    'Linear Regression(lasso)' : Lasso(),\n",
    "    '       Linear Regression' : LinearRegression(),\n",
    "    ' Light Gradient Boosting' : LGBMRegressor()\n",
    "}\n",
    "\n",
    "for name, models in models.items():\n",
    "    models.fit(X_train, y_train)\n",
    "    print(name + ' trained.')"
   ]
  },
  {
   "cell_type": "code",
   "execution_count": 64,
   "id": "64e7609a",
   "metadata": {},
   "outputs": [],
   "source": [
    "def get_rmse(y_true, y_pred):\n",
    "    rmse = np.sqrt(np.mean((y_test - y_pred)**2))\n",
    "    return rmse"
   ]
  },
  {
   "cell_type": "code",
   "execution_count": 65,
   "id": "c52bbd27",
   "metadata": {},
   "outputs": [],
   "source": [
    "def get_r2(y_test, y_pred):\n",
    "    r2 = 1 - (np.sum((y_test - y_pred)**2) / np.sum((y_test - y_test.mean())**2))\n",
    "    return r2"
   ]
  },
  {
   "cell_type": "code",
   "execution_count": 66,
   "id": "729dca76",
   "metadata": {},
   "outputs": [
    {
     "name": "stdout",
     "output_type": "stream",
     "text": [
      "115.91114850249082\n"
     ]
    }
   ],
   "source": [
    "lgbm = LGBMRegressor()\n",
    "lgbm.fit(X_train, y_train)\n",
    "lgbm_pred = lgbm.predict(X_test)\n",
    "lgbm_rmse = mse(y_test, lgbm_pred, squared=False)\n",
    "print(lgbm_rmse)"
   ]
  },
  {
   "cell_type": "code",
   "execution_count": 67,
   "id": "8538add5",
   "metadata": {},
   "outputs": [
    {
     "name": "stdout",
     "output_type": "stream",
     "text": [
      "236.55631046958425\n"
     ]
    }
   ],
   "source": [
    "lr = LinearRegression()\n",
    "lr.fit(X_train, y_train)\n",
    "lr_pred = lr.predict(X_test)\n",
    "lr_rmse = mse(y_test, lr_pred, squared=False)\n",
    "print(lr_rmse)"
   ]
  },
  {
   "cell_type": "code",
   "execution_count": 68,
   "id": "b55b38b9",
   "metadata": {},
   "outputs": [
    {
     "name": "stdout",
     "output_type": "stream",
     "text": [
      "236.6827873312044\n"
     ]
    }
   ],
   "source": [
    "lr_lasso = Lasso()\n",
    "lr_lasso.fit(X_train, y_train)\n",
    "lr_lasso_pred = lr_lasso.predict(X_test)\n",
    "lr_lasso_rmse = mse(y_test, lr_lasso_pred, squared=False)\n",
    "print(lr_lasso_rmse)"
   ]
  },
  {
   "cell_type": "code",
   "execution_count": 69,
   "id": "f6edc7f8",
   "metadata": {},
   "outputs": [
    {
     "name": "stdout",
     "output_type": "stream",
     "text": [
      "181.26904642889377\n"
     ]
    }
   ],
   "source": [
    "XGRF = XGBRFRegressor()\n",
    "XGRF.fit(X_train,y_train)\n",
    "XGRF_pred = XGRF.predict(X_test)\n",
    "XGRF_rmse = mse(y_test, XGRF_pred, squared=False)\n",
    "print(XGRF_rmse)"
   ]
  },
  {
   "cell_type": "code",
   "execution_count": 70,
   "id": "77a44456",
   "metadata": {},
   "outputs": [
    {
     "name": "stdout",
     "output_type": "stream",
     "text": [
      "74.80760682424643\n"
     ]
    }
   ],
   "source": [
    "XGBRF = XGBRegressor()\n",
    "XGBRF.fit(X_train,y_train)\n",
    "XGBRF_pred = XGBRF.predict(X_test)\n",
    "XGBRF_rmse = mse(y_test, XGBRF_pred, squared=False)\n",
    "print(XGBRF_rmse)"
   ]
  },
  {
   "cell_type": "code",
   "execution_count": 71,
   "id": "1389722e",
   "metadata": {},
   "outputs": [
    {
     "name": "stdout",
     "output_type": "stream",
     "text": [
      "87.858375818608\n"
     ]
    }
   ],
   "source": [
    "Cat = CatBoostRegressor(verbose=0)\n",
    "Cat.fit(X_train,y_train)\n",
    "Cat_pred = Cat.predict(X_test)\n",
    "Cat_rmse = mse(y_test, Cat_pred, squared=False)\n",
    "print(Cat_rmse)"
   ]
  },
  {
   "cell_type": "code",
   "execution_count": 72,
   "id": "e4d59009",
   "metadata": {},
   "outputs": [
    {
     "name": "stdout",
     "output_type": "stream",
     "text": [
      "52.09015335678568\n"
     ]
    }
   ],
   "source": [
    "RF = RandomForestRegressor()\n",
    "RF.fit(X_train,y_train)\n",
    "RF_pred = RF.predict(X_test)\n",
    "RF_rmse = mse(y_test, RF_pred, squared=False)\n",
    "print(RF_rmse)"
   ]
  },
  {
   "cell_type": "code",
   "execution_count": 73,
   "id": "18b61442",
   "metadata": {},
   "outputs": [
    {
     "name": "stdout",
     "output_type": "stream",
     "text": [
      "276.18437131284395\n"
     ]
    }
   ],
   "source": [
    "NN = MLPRegressor()\n",
    "NN.fit(X_train,y_train)\n",
    "NN_pred = NN.predict(X_test)\n",
    "NN_rmse = mse(y_test, NN_pred, squared=False)\n",
    "print(NN_rmse)"
   ]
  },
  {
   "cell_type": "code",
   "execution_count": 74,
   "id": "6fa6cfee",
   "metadata": {},
   "outputs": [
    {
     "name": "stdout",
     "output_type": "stream",
     "text": [
      "236.5563606970875\n"
     ]
    }
   ],
   "source": [
    "lr_ridge = Ridge()\n",
    "lr_ridge.fit(X_train,y_train)\n",
    "lr_ridge_pred = lr_ridge.predict(X_test)\n",
    "lr_ridge_rmse = mse(y_test, lr_ridge_pred, squared=False)\n",
    "print(lr_ridge_rmse)"
   ]
  },
  {
   "cell_type": "code",
   "execution_count": 75,
   "id": "566bda46",
   "metadata": {},
   "outputs": [
    {
     "data": {
      "image/png": "[encoded data removed]",
      "text/plain": [
       "<Figure size 640x480 with 1 Axes>"
      ]
     },
     "metadata": {},
     "output_type": "display_data"
    }
   ],
   "source": [
    "from sklearn.inspection import permutation_importance\n",
    "\n",
    "result = permutation_importance(lgbm, X.values, y, n_repeats=10, random_state=42)\n",
    "\n",
    "perm_imp_idx = result.importances_mean.argsort()\n",
    "\n",
    "plt.boxplot(result.importances[perm_imp_idx].T, vert=False, labels=X.columns[perm_imp_idx])\n",
    "plt.title('Feature Importance for the Dataset')\n",
    "\n",
    "plt.show()"
   ]
  },
  {
   "cell_type": "code",
   "execution_count": 76,
   "id": "5aec895b",
   "metadata": {},
   "outputs": [
    {
     "data": {
      "text/plain": [
       "array([[ 9.49930000e+04,  1.00000000e+00,  5.40302306e-01, ...,\n",
       "         1.00000000e+00,  0.00000000e+00,  1.00000000e+00],\n",
       "       [ 9.49940000e+04,  1.00000000e+00,  5.40302306e-01, ...,\n",
       "         9.65925826e-01,  0.00000000e+00,  1.00000000e+00],\n",
       "       [ 9.49950000e+04,  1.00000000e+00,  5.40302306e-01, ...,\n",
       "         8.66025404e-01,  0.00000000e+00,  1.00000000e+00],\n",
       "       ...,\n",
       "       [ 1.21294000e+05,  3.10000000e+01, -6.53643621e-01, ...,\n",
       "         7.07106781e-01, -5.00000000e-01,  8.66025404e-01],\n",
       "       [ 1.21295000e+05,  3.10000000e+01, -6.53643621e-01, ...,\n",
       "         8.66025404e-01, -5.00000000e-01,  8.66025404e-01],\n",
       "       [ 1.21296000e+05,  3.10000000e+01, -6.53643621e-01, ...,\n",
       "         9.65925826e-01, -5.00000000e-01,  8.66025404e-01]])"
      ]
     },
     "execution_count": 76,
     "metadata": {},
     "output_type": "execute_result"
    }
   ],
   "source": [
    "test.values"
   ]
  },
  {
   "cell_type": "code",
   "execution_count": 77,
   "id": "53d1f08f",
   "metadata": {},
   "outputs": [
    {
     "data": {
      "text/plain": [
       "(26304, 10)"
      ]
     },
     "execution_count": 77,
     "metadata": {},
     "output_type": "execute_result"
    }
   ],
   "source": [
    "test.values.shape"
   ]
  },
  {
   "cell_type": "code",
   "execution_count": 78,
   "id": "f679e530",
   "metadata": {},
   "outputs": [
    {
     "data": {
      "text/plain": [
       "array([1777.4381, 1547.3185, 1451.0945, ..., 2279.1543, 2227.557 ,\n",
       "       2080.8674], dtype=float32)"
      ]
     },
     "execution_count": 78,
     "metadata": {},
     "output_type": "execute_result"
    }
   ],
   "source": [
    "predicted_test = XGBRF.predict(test.values)\n",
    "predicted_test"
   ]
  },
  {
   "cell_type": "code",
   "execution_count": 79,
   "id": "dd660699",
   "metadata": {},
   "outputs": [
    {
     "data": {
      "text/plain": [
       "array([2024.8888, 1794.7692, 1698.5452, ..., 2526.605 , 2475.0076,\n",
       "       2328.318 ], dtype=float32)"
      ]
     },
     "execution_count": 79,
     "metadata": {},
     "output_type": "execute_result"
    }
   ],
   "source": [
    "final_test = predicted_test + z\n",
    "final_test"
   ]
  },
  {
   "cell_type": "code",
   "execution_count": 80,
   "id": "02f9acbc",
   "metadata": {},
   "outputs": [
    {
     "name": "stdout",
     "output_type": "stream",
     "text": [
      "       row_id       energy\n",
      "0       94993  1702.995014\n",
      "1       94994  1702.995014\n",
      "2       94995  1702.995014\n",
      "3       94996  1702.995014\n",
      "4       94997  1702.995014\n",
      "...       ...          ...\n",
      "26299  121292  1702.995014\n",
      "26300  121293  1702.995014\n",
      "26301  121294  1702.995014\n",
      "26302  121295  1702.995014\n",
      "26303  121296  1702.995014\n",
      "\n",
      "[26304 rows x 2 columns]\n"
     ]
    }
   ],
   "source": [
    "SS = submission\n",
    "print(SS)"
   ]
  },
  {
   "cell_type": "code",
   "execution_count": 81,
   "id": "daba8da6",
   "metadata": {},
   "outputs": [
    {
     "data": {
      "text/plain": [
       "row_id      int64\n",
       "energy    float64\n",
       "dtype: object"
      ]
     },
     "execution_count": 81,
     "metadata": {},
     "output_type": "execute_result"
    }
   ],
   "source": [
    "SS.dtypes"
   ]
  },
  {
   "cell_type": "code",
   "execution_count": 82,
   "id": "b2ff6f96",
   "metadata": {},
   "outputs": [
    {
     "data": {
      "text/plain": [
       "0        2024.888794\n",
       "1        1794.769165\n",
       "2        1698.545166\n",
       "3        1643.004639\n",
       "4        1605.140137\n",
       "            ...     \n",
       "26299    2641.618652\n",
       "26300    2553.651855\n",
       "26301    2526.604980\n",
       "26302    2475.007568\n",
       "26303    2328.318115\n",
       "Name: energy, Length: 26304, dtype: float32"
      ]
     },
     "execution_count": 82,
     "metadata": {},
     "output_type": "execute_result"
    }
   ],
   "source": [
    "SS['energy'] = final_test\n",
    "SS['energy']"
   ]
  },
  {
   "cell_type": "code",
   "execution_count": 83,
   "id": "49a3ed5f",
   "metadata": {},
   "outputs": [],
   "source": [
    "SS.to_csv('Submission_JOTNovXGBRF.csv', index=False)\n"
   ]
  },
  {
   "cell_type": "code",
   "execution_count": null,
   "id": "ac146d27",
   "metadata": {},
   "outputs": [],
   "source": []
  }
 ],
 "metadata": {
  "kernelspec": {
   "display_name": "Python 3 (ipykernel)",
   "language": "python",
   "name": "python3"
  },
  "language_info": {
   "codemirror_mode": {
    "name": "ipython",
    "version": 3
   },
   "file_extension": ".py",
   "mimetype": "text/x-python",
   "name": "python",
   "nbconvert_exporter": "python",
   "pygments_lexer": "ipython3",
   "version": "3.9.13"
  }
 },
 "nbformat": 4,
 "nbformat_minor": 5
}
